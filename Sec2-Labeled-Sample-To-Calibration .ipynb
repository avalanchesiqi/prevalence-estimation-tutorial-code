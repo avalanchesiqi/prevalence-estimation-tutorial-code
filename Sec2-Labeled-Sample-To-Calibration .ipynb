{
 "cells": [
  {
   "cell_type": "markdown",
   "metadata": {},
   "source": [
    "# Use a label sample to calibrate the estimation on a base dataset"
   ]
  },
  {
   "cell_type": "code",
   "execution_count": 1,
   "metadata": {},
   "outputs": [],
   "source": [
    "import numpy as np\n",
    "import pandas as pd\n",
    "from scipy import stats\n",
    "from matplotlib import pyplot as plt\n",
    "from sklearn.metrics import confusion_matrix\n",
    "\n",
    "from util import plot_stacked_frequency\n",
    "from util import DataHandler, NPBinningCalibrationCurve, LogisticCalibrationCurve, ProbabilityEstimator"
   ]
  },
  {
   "cell_type": "markdown",
   "metadata": {},
   "source": [
    "## 1. Load an unlabeled dataset"
   ]
  },
  {
   "cell_type": "code",
   "execution_count": 2,
   "metadata": {},
   "outputs": [],
   "source": [
    "# base is a very large dataset\n",
    "base_dh = DataHandler('data/dataset1_base.csv')"
   ]
  },
  {
   "cell_type": "code",
   "execution_count": 3,
   "metadata": {},
   "outputs": [],
   "source": [
    "# TODO: change the dataset to 'data/dataset1_target.csv'\n",
    "# base_dh = DataHandler('data/dataset1_target.csv')"
   ]
  },
  {
   "cell_type": "code",
   "execution_count": 4,
   "metadata": {},
   "outputs": [
    {
     "data": {
      "text/html": [
       "<div>\n",
       "<style scoped>\n",
       "    .dataframe tbody tr th:only-of-type {\n",
       "        vertical-align: middle;\n",
       "    }\n",
       "\n",
       "    .dataframe tbody tr th {\n",
       "        vertical-align: top;\n",
       "    }\n",
       "\n",
       "    .dataframe thead th {\n",
       "        text-align: right;\n",
       "    }\n",
       "</style>\n",
       "<table border=\"1\" class=\"dataframe\">\n",
       "  <thead>\n",
       "    <tr style=\"text-align: right;\">\n",
       "      <th></th>\n",
       "      <th>C(X)</th>\n",
       "      <th>GT</th>\n",
       "    </tr>\n",
       "  </thead>\n",
       "  <tbody>\n",
       "    <tr>\n",
       "      <td>0</td>\n",
       "      <td>0.254796</td>\n",
       "      <td></td>\n",
       "    </tr>\n",
       "    <tr>\n",
       "      <td>1</td>\n",
       "      <td>0.888630</td>\n",
       "      <td></td>\n",
       "    </tr>\n",
       "    <tr>\n",
       "      <td>2</td>\n",
       "      <td>0.815468</td>\n",
       "      <td></td>\n",
       "    </tr>\n",
       "    <tr>\n",
       "      <td>3</td>\n",
       "      <td>0.801820</td>\n",
       "      <td></td>\n",
       "    </tr>\n",
       "    <tr>\n",
       "      <td>4</td>\n",
       "      <td>0.209585</td>\n",
       "      <td></td>\n",
       "    </tr>\n",
       "    <tr>\n",
       "      <td>...</td>\n",
       "      <td>...</td>\n",
       "      <td>...</td>\n",
       "    </tr>\n",
       "    <tr>\n",
       "      <td>99995</td>\n",
       "      <td>0.383462</td>\n",
       "      <td></td>\n",
       "    </tr>\n",
       "    <tr>\n",
       "      <td>99996</td>\n",
       "      <td>0.937050</td>\n",
       "      <td></td>\n",
       "    </tr>\n",
       "    <tr>\n",
       "      <td>99997</td>\n",
       "      <td>0.066808</td>\n",
       "      <td></td>\n",
       "    </tr>\n",
       "    <tr>\n",
       "      <td>99998</td>\n",
       "      <td>0.358555</td>\n",
       "      <td></td>\n",
       "    </tr>\n",
       "    <tr>\n",
       "      <td>99999</td>\n",
       "      <td>0.079117</td>\n",
       "      <td></td>\n",
       "    </tr>\n",
       "  </tbody>\n",
       "</table>\n",
       "<p>100000 rows × 2 columns</p>\n",
       "</div>"
      ],
      "text/plain": [
       "           C(X) GT\n",
       "0      0.254796   \n",
       "1      0.888630   \n",
       "2      0.815468   \n",
       "3      0.801820   \n",
       "4      0.209585   \n",
       "...         ... ..\n",
       "99995  0.383462   \n",
       "99996  0.937050   \n",
       "99997  0.066808   \n",
       "99998  0.358555   \n",
       "99999  0.079117   \n",
       "\n",
       "[100000 rows x 2 columns]"
      ]
     },
     "execution_count": 4,
     "metadata": {},
     "output_type": "execute_result"
    }
   ],
   "source": [
    "# you observe only classifier scores C(X), but no GT labels\n",
    "base_dh.observed_df"
   ]
  },
  {
   "cell_type": "code",
   "execution_count": 5,
   "metadata": {},
   "outputs": [
    {
     "data": {
      "text/plain": [
       "0"
      ]
     },
     "execution_count": 5,
     "metadata": {},
     "output_type": "execute_result"
    }
   ],
   "source": [
    "# count_gt() function returns the number of items with GT labels\n",
    "base_dh.count_gt()"
   ]
  },
  {
   "cell_type": "markdown",
   "metadata": {},
   "source": [
    "## 2. Assume that we have some budget to obtain the GT labels"
   ]
  },
  {
   "cell_type": "code",
   "execution_count": 6,
   "metadata": {},
   "outputs": [],
   "source": [
    "# the `get_oracle_labels` function will get the GT labels for specifc rows\n",
    "base_dh.get_oracle_labels(rows=[0, 1, 2])"
   ]
  },
  {
   "cell_type": "code",
   "execution_count": 7,
   "metadata": {},
   "outputs": [
    {
     "data": {
      "text/html": [
       "<div>\n",
       "<style scoped>\n",
       "    .dataframe tbody tr th:only-of-type {\n",
       "        vertical-align: middle;\n",
       "    }\n",
       "\n",
       "    .dataframe tbody tr th {\n",
       "        vertical-align: top;\n",
       "    }\n",
       "\n",
       "    .dataframe thead th {\n",
       "        text-align: right;\n",
       "    }\n",
       "</style>\n",
       "<table border=\"1\" class=\"dataframe\">\n",
       "  <thead>\n",
       "    <tr style=\"text-align: right;\">\n",
       "      <th></th>\n",
       "      <th>C(X)</th>\n",
       "      <th>GT</th>\n",
       "    </tr>\n",
       "  </thead>\n",
       "  <tbody>\n",
       "    <tr>\n",
       "      <td>0</td>\n",
       "      <td>0.254796</td>\n",
       "      <td>False</td>\n",
       "    </tr>\n",
       "    <tr>\n",
       "      <td>1</td>\n",
       "      <td>0.888630</td>\n",
       "      <td>True</td>\n",
       "    </tr>\n",
       "    <tr>\n",
       "      <td>2</td>\n",
       "      <td>0.815468</td>\n",
       "      <td>True</td>\n",
       "    </tr>\n",
       "    <tr>\n",
       "      <td>3</td>\n",
       "      <td>0.801820</td>\n",
       "      <td></td>\n",
       "    </tr>\n",
       "    <tr>\n",
       "      <td>4</td>\n",
       "      <td>0.209585</td>\n",
       "      <td></td>\n",
       "    </tr>\n",
       "    <tr>\n",
       "      <td>...</td>\n",
       "      <td>...</td>\n",
       "      <td>...</td>\n",
       "    </tr>\n",
       "    <tr>\n",
       "      <td>99995</td>\n",
       "      <td>0.383462</td>\n",
       "      <td></td>\n",
       "    </tr>\n",
       "    <tr>\n",
       "      <td>99996</td>\n",
       "      <td>0.937050</td>\n",
       "      <td></td>\n",
       "    </tr>\n",
       "    <tr>\n",
       "      <td>99997</td>\n",
       "      <td>0.066808</td>\n",
       "      <td></td>\n",
       "    </tr>\n",
       "    <tr>\n",
       "      <td>99998</td>\n",
       "      <td>0.358555</td>\n",
       "      <td></td>\n",
       "    </tr>\n",
       "    <tr>\n",
       "      <td>99999</td>\n",
       "      <td>0.079117</td>\n",
       "      <td></td>\n",
       "    </tr>\n",
       "  </tbody>\n",
       "</table>\n",
       "<p>100000 rows × 2 columns</p>\n",
       "</div>"
      ],
      "text/plain": [
       "           C(X)     GT\n",
       "0      0.254796  False\n",
       "1      0.888630   True\n",
       "2      0.815468   True\n",
       "3      0.801820       \n",
       "4      0.209585       \n",
       "...         ...    ...\n",
       "99995  0.383462       \n",
       "99996  0.937050       \n",
       "99997  0.066808       \n",
       "99998  0.358555       \n",
       "99999  0.079117       \n",
       "\n",
       "[100000 rows x 2 columns]"
      ]
     },
     "execution_count": 7,
     "metadata": {},
     "output_type": "execute_result"
    }
   ],
   "source": [
    "base_dh.observed_df"
   ]
  },
  {
   "cell_type": "code",
   "execution_count": 8,
   "metadata": {},
   "outputs": [
    {
     "data": {
      "text/html": [
       "<div>\n",
       "<style scoped>\n",
       "    .dataframe tbody tr th:only-of-type {\n",
       "        vertical-align: middle;\n",
       "    }\n",
       "\n",
       "    .dataframe tbody tr th {\n",
       "        vertical-align: top;\n",
       "    }\n",
       "\n",
       "    .dataframe thead th {\n",
       "        text-align: right;\n",
       "    }\n",
       "</style>\n",
       "<table border=\"1\" class=\"dataframe\">\n",
       "  <thead>\n",
       "    <tr style=\"text-align: right;\">\n",
       "      <th></th>\n",
       "      <th>C(X)</th>\n",
       "      <th>GT</th>\n",
       "    </tr>\n",
       "  </thead>\n",
       "  <tbody>\n",
       "    <tr>\n",
       "      <td>0</td>\n",
       "      <td>0.254796</td>\n",
       "      <td>False</td>\n",
       "    </tr>\n",
       "    <tr>\n",
       "      <td>1</td>\n",
       "      <td>0.888630</td>\n",
       "      <td>True</td>\n",
       "    </tr>\n",
       "    <tr>\n",
       "      <td>2</td>\n",
       "      <td>0.815468</td>\n",
       "      <td>True</td>\n",
       "    </tr>\n",
       "  </tbody>\n",
       "</table>\n",
       "</div>"
      ],
      "text/plain": [
       "       C(X)     GT\n",
       "0  0.254796  False\n",
       "1  0.888630   True\n",
       "2  0.815468   True"
      ]
     },
     "execution_count": 8,
     "metadata": {},
     "output_type": "execute_result"
    }
   ],
   "source": [
    "# we can also get a subset of all labeled rows\n",
    "base_dh.sample_df"
   ]
  },
  {
   "cell_type": "markdown",
   "metadata": {},
   "source": [
    "### 2.1 Random sampling"
   ]
  },
  {
   "cell_type": "code",
   "execution_count": 9,
   "metadata": {},
   "outputs": [],
   "source": [
    "sampeld_rows = base_dh.get_sample_for_labeling(n_item=5000, strategy='random')"
   ]
  },
  {
   "cell_type": "code",
   "execution_count": 10,
   "metadata": {},
   "outputs": [],
   "source": [
    "base_dh.get_oracle_labels(rows=sampeld_rows)"
   ]
  },
  {
   "cell_type": "code",
   "execution_count": 11,
   "metadata": {},
   "outputs": [
    {
     "data": {
      "text/plain": [
       "5003"
      ]
     },
     "execution_count": 11,
     "metadata": {},
     "output_type": "execute_result"
    }
   ],
   "source": [
    "base_dh.count_gt()"
   ]
  },
  {
   "cell_type": "code",
   "execution_count": 12,
   "metadata": {},
   "outputs": [
    {
     "data": {
      "text/html": [
       "<div>\n",
       "<style scoped>\n",
       "    .dataframe tbody tr th:only-of-type {\n",
       "        vertical-align: middle;\n",
       "    }\n",
       "\n",
       "    .dataframe tbody tr th {\n",
       "        vertical-align: top;\n",
       "    }\n",
       "\n",
       "    .dataframe thead th {\n",
       "        text-align: right;\n",
       "    }\n",
       "</style>\n",
       "<table border=\"1\" class=\"dataframe\">\n",
       "  <thead>\n",
       "    <tr style=\"text-align: right;\">\n",
       "      <th></th>\n",
       "      <th>C(X)</th>\n",
       "      <th>GT</th>\n",
       "    </tr>\n",
       "  </thead>\n",
       "  <tbody>\n",
       "    <tr>\n",
       "      <td>0</td>\n",
       "      <td>0.254796</td>\n",
       "      <td>False</td>\n",
       "    </tr>\n",
       "    <tr>\n",
       "      <td>1</td>\n",
       "      <td>0.888630</td>\n",
       "      <td>True</td>\n",
       "    </tr>\n",
       "    <tr>\n",
       "      <td>2</td>\n",
       "      <td>0.815468</td>\n",
       "      <td>True</td>\n",
       "    </tr>\n",
       "    <tr>\n",
       "      <td>13</td>\n",
       "      <td>0.448847</td>\n",
       "      <td>False</td>\n",
       "    </tr>\n",
       "    <tr>\n",
       "      <td>15</td>\n",
       "      <td>0.182088</td>\n",
       "      <td>False</td>\n",
       "    </tr>\n",
       "    <tr>\n",
       "      <td>...</td>\n",
       "      <td>...</td>\n",
       "      <td>...</td>\n",
       "    </tr>\n",
       "    <tr>\n",
       "      <td>99966</td>\n",
       "      <td>0.197190</td>\n",
       "      <td>False</td>\n",
       "    </tr>\n",
       "    <tr>\n",
       "      <td>99970</td>\n",
       "      <td>0.371773</td>\n",
       "      <td>False</td>\n",
       "    </tr>\n",
       "    <tr>\n",
       "      <td>99985</td>\n",
       "      <td>0.384530</td>\n",
       "      <td>False</td>\n",
       "    </tr>\n",
       "    <tr>\n",
       "      <td>99993</td>\n",
       "      <td>0.566899</td>\n",
       "      <td>False</td>\n",
       "    </tr>\n",
       "    <tr>\n",
       "      <td>99999</td>\n",
       "      <td>0.079117</td>\n",
       "      <td>False</td>\n",
       "    </tr>\n",
       "  </tbody>\n",
       "</table>\n",
       "<p>5003 rows × 2 columns</p>\n",
       "</div>"
      ],
      "text/plain": [
       "           C(X)     GT\n",
       "0      0.254796  False\n",
       "1      0.888630   True\n",
       "2      0.815468   True\n",
       "13     0.448847  False\n",
       "15     0.182088  False\n",
       "...         ...    ...\n",
       "99966  0.197190  False\n",
       "99970  0.371773  False\n",
       "99985  0.384530  False\n",
       "99993  0.566899  False\n",
       "99999  0.079117  False\n",
       "\n",
       "[5003 rows x 2 columns]"
      ]
     },
     "execution_count": 12,
     "metadata": {},
     "output_type": "execute_result"
    }
   ],
   "source": [
    "base_dh.sample_df"
   ]
  },
  {
   "cell_type": "code",
   "execution_count": 13,
   "metadata": {},
   "outputs": [],
   "source": [
    "random_sample_df = base_dh.sample_df"
   ]
  },
  {
   "cell_type": "code",
   "execution_count": 14,
   "metadata": {},
   "outputs": [
    {
     "data": {
      "image/png": "[encoded data removed]",
      "text/plain": [
       "<Figure size 1152x216 with 5 Axes>"
      ]
     },
     "metadata": {
      "needs_background": "light"
     },
     "output_type": "display_data"
    }
   ],
   "source": [
    "base_dh.generate_all_distribution_plots(df=random_sample_df, num_bin=10)"
   ]
  },
  {
   "cell_type": "code",
   "execution_count": 15,
   "metadata": {},
   "outputs": [],
   "source": [
    "# def estimator(dh, labeled_df):\n",
    "    # get a calibration curve for this labeled df and distribution of C(X) of the observed 1M df\n",
    "    # run our intergral to get an estimation"
   ]
  },
  {
   "cell_type": "markdown",
   "metadata": {},
   "source": [
    "### Estimating with PE, but just once"
   ]
  },
  {
   "cell_type": "markdown",
   "metadata": {},
   "source": [
    "#### Using NPBinningCalibrationCurve"
   ]
  },
  {
   "cell_type": "code",
   "execution_count": 35,
   "metadata": {},
   "outputs": [
    {
     "data": {
      "text/plain": [
       "0.20003220089634433"
      ]
     },
     "execution_count": 35,
     "metadata": {},
     "output_type": "execute_result"
    }
   ],
   "source": [
    "pe_estimator = ProbabilityEstimator()\n",
    "\n",
    "sample_calibration_curve = NPBinningCalibrationCurve(random_sample_df, num_bin=50)\n",
    "pe_estimator.set_calibration_curve(sample_calibration_curve)\n",
    "\n",
    "input_cx_array = base_dh.observed_df['C(X)'].values\n",
    "\n",
    "pe_estimator.estimate(input_cx_array)"
   ]
  },
  {
   "cell_type": "markdown",
   "metadata": {},
   "source": [
    "#### Using LogisticCalibrationCurve"
   ]
  },
  {
   "cell_type": "code",
   "execution_count": 36,
   "metadata": {},
   "outputs": [
    {
     "data": {
      "text/plain": [
       "0.200565019669186"
      ]
     },
     "execution_count": 36,
     "metadata": {},
     "output_type": "execute_result"
    }
   ],
   "source": [
    "pe_estimator = ProbabilityEstimator()\n",
    "\n",
    "sample_calibration_curve = LogisticCalibrationCurve()\n",
    "sample_calibration_curve.fit(random_sample_df)\n",
    "pe_estimator.set_calibration_curve(sample_calibration_curve)\n",
    "\n",
    "input_cx_array = base_dh.observed_df['C(X)'].values\n",
    "\n",
    "pe_estimator.estimate(input_cx_array)"
   ]
  },
  {
   "cell_type": "markdown",
   "metadata": {},
   "source": [
    "### Obtaining confidence interval by Bootstrap sampling"
   ]
  },
  {
   "cell_type": "code",
   "execution_count": 37,
   "metadata": {},
   "outputs": [],
   "source": [
    "def bootstrap_estimating(df, num_bootstrap, calibration_curve='platt scaling', verbose=False):\n",
    "    # sample with replacement on the 5000 labeled df\n",
    "\n",
    "    pe_estimator = ProbabilityEstimator()\n",
    "    input_cx_array = base_dh.observed_df['C(X)'].values\n",
    "\n",
    "    estimated_result_list = []\n",
    "\n",
    "    for bootstrap_idx in range(num_bootstrap):\n",
    "        n_item = len(df)\n",
    "        bootstrapped_sample_df = df.sample(frac=1, replace=True)\n",
    "\n",
    "        if calibration_curve == 'platt scaling':\n",
    "            bootstrapped_calibration_curve = LogisticCalibrationCurve()\n",
    "            bootstrapped_calibration_curve.fit(bootstrapped_sample_df)\n",
    "        elif calibration_curve == 'nonparametric binning':\n",
    "            bootstrapped_calibration_curve = NPBinningCalibrationCurve(bootstrapped_sample_df, num_bin=10)\n",
    "\n",
    "        pe_estimator.set_calibration_curve(bootstrapped_calibration_curve)\n",
    "\n",
    "        bootstrapped_pe_estimation = pe_estimator.estimate(input_cx_array)\n",
    "        if verbose:\n",
    "            print(f'{bootstrap_idx:>3}: {bootstrapped_pe_estimation:.4f}')\n",
    "        estimated_result_list.append(bootstrapped_pe_estimation)    \n",
    "    return estimated_result_list"
   ]
  },
  {
   "cell_type": "code",
   "execution_count": 38,
   "metadata": {
    "scrolled": true
   },
   "outputs": [
    {
     "name": "stdout",
     "output_type": "stream",
     "text": [
      "  0: 0.1993\n",
      "  1: 0.1987\n",
      "  2: 0.1979\n",
      "  3: 0.2004\n",
      "  4: 0.1972\n",
      "  5: 0.1971\n",
      "  6: 0.1984\n",
      "  7: 0.1961\n",
      "  8: 0.2004\n",
      "  9: 0.2015\n",
      " 10: 0.2005\n",
      " 11: 0.1993\n",
      " 12: 0.1991\n",
      " 13: 0.2016\n",
      " 14: 0.1974\n",
      " 15: 0.2017\n",
      " 16: 0.2027\n",
      " 17: 0.1981\n",
      " 18: 0.2003\n",
      " 19: 0.1992\n",
      " 20: 0.2002\n",
      " 21: 0.1996\n",
      " 22: 0.1963\n",
      " 23: 0.1956\n",
      " 24: 0.2002\n",
      " 25: 0.2009\n",
      " 26: 0.1984\n",
      " 27: 0.2008\n",
      " 28: 0.2033\n",
      " 29: 0.1974\n",
      " 30: 0.2001\n",
      " 31: 0.2001\n",
      " 32: 0.2044\n",
      " 33: 0.2002\n",
      " 34: 0.1982\n",
      " 35: 0.1980\n",
      " 36: 0.2010\n",
      " 37: 0.2017\n",
      " 38: 0.1978\n",
      " 39: 0.1966\n",
      " 40: 0.1996\n",
      " 41: 0.1995\n",
      " 42: 0.1982\n",
      " 43: 0.1992\n",
      " 44: 0.1999\n",
      " 45: 0.1967\n",
      " 46: 0.2008\n",
      " 47: 0.1971\n",
      " 48: 0.1993\n",
      " 49: 0.2042\n",
      " 50: 0.1990\n",
      " 51: 0.2021\n",
      " 52: 0.1995\n",
      " 53: 0.1979\n",
      " 54: 0.1977\n",
      " 55: 0.2022\n",
      " 56: 0.1980\n",
      " 57: 0.1980\n",
      " 58: 0.2013\n",
      " 59: 0.1967\n",
      " 60: 0.2019\n",
      " 61: 0.2002\n",
      " 62: 0.2029\n",
      " 63: 0.2007\n",
      " 64: 0.1976\n",
      " 65: 0.2014\n",
      " 66: 0.2012\n",
      " 67: 0.2019\n",
      " 68: 0.1964\n",
      " 69: 0.2004\n",
      " 70: 0.1980\n",
      " 71: 0.1969\n",
      " 72: 0.1984\n",
      " 73: 0.1935\n",
      " 74: 0.2003\n",
      " 75: 0.1999\n",
      " 76: 0.1991\n",
      " 77: 0.1964\n",
      " 78: 0.2016\n",
      " 79: 0.2000\n",
      " 80: 0.2030\n",
      " 81: 0.2040\n",
      " 82: 0.1983\n",
      " 83: 0.1995\n",
      " 84: 0.1993\n",
      " 85: 0.1990\n",
      " 86: 0.1971\n",
      " 87: 0.2012\n",
      " 88: 0.2024\n",
      " 89: 0.2000\n",
      " 90: 0.1967\n",
      " 91: 0.1976\n",
      " 92: 0.1988\n",
      " 93: 0.2021\n",
      " 94: 0.2020\n",
      " 95: 0.2006\n",
      " 96: 0.2018\n",
      " 97: 0.2003\n",
      " 98: 0.2003\n",
      " 99: 0.2014\n"
     ]
    }
   ],
   "source": [
    "npbin_estimated_result_list = bootstrap_estimating(random_sample_df, num_bootstrap=100, calibration_curve='nonparametric binning', verbose=True)"
   ]
  },
  {
   "cell_type": "code",
   "execution_count": 39,
   "metadata": {},
   "outputs": [],
   "source": [
    "def get_median_CI(estimated_result_list):\n",
    "    return np.median(estimated_result_list), np.percentile(estimated_result_list, 2.5), np.percentile(estimated_result_list, 97.5)"
   ]
  },
  {
   "cell_type": "code",
   "execution_count": 40,
   "metadata": {},
   "outputs": [
    {
     "data": {
      "text/plain": [
       "(0.19960969565292103, 0.1962045328209937, 0.2036795390781846)"
      ]
     },
     "execution_count": 40,
     "metadata": {},
     "output_type": "execute_result"
    }
   ],
   "source": [
    "get_median_CI(npbin_estimated_result_list)"
   ]
  },
  {
   "cell_type": "code",
   "execution_count": 41,
   "metadata": {
    "scrolled": true
   },
   "outputs": [
    {
     "name": "stdout",
     "output_type": "stream",
     "text": [
      "  0: 0.2013\n",
      "  1: 0.2020\n",
      "  2: 0.2011\n",
      "  3: 0.1998\n",
      "  4: 0.2028\n",
      "  5: 0.1995\n",
      "  6: 0.2052\n",
      "  7: 0.1992\n",
      "  8: 0.2039\n",
      "  9: 0.1978\n",
      " 10: 0.1977\n",
      " 11: 0.1990\n",
      " 12: 0.2015\n",
      " 13: 0.1966\n",
      " 14: 0.1995\n",
      " 15: 0.2021\n",
      " 16: 0.1989\n",
      " 17: 0.2010\n",
      " 18: 0.2024\n",
      " 19: 0.2004\n",
      " 20: 0.1984\n",
      " 21: 0.2001\n",
      " 22: 0.2013\n",
      " 23: 0.2019\n",
      " 24: 0.1986\n",
      " 25: 0.2031\n",
      " 26: 0.1957\n",
      " 27: 0.2010\n",
      " 28: 0.1988\n",
      " 29: 0.1995\n",
      " 30: 0.2030\n",
      " 31: 0.2016\n",
      " 32: 0.2015\n",
      " 33: 0.1997\n",
      " 34: 0.1982\n",
      " 35: 0.2012\n",
      " 36: 0.2013\n",
      " 37: 0.1981\n",
      " 38: 0.1976\n",
      " 39: 0.2000\n",
      " 40: 0.2012\n",
      " 41: 0.2001\n",
      " 42: 0.2015\n",
      " 43: 0.2014\n",
      " 44: 0.2011\n",
      " 45: 0.2035\n",
      " 46: 0.1988\n",
      " 47: 0.1994\n",
      " 48: 0.1995\n",
      " 49: 0.2021\n",
      " 50: 0.2011\n",
      " 51: 0.1958\n",
      " 52: 0.2049\n",
      " 53: 0.2019\n",
      " 54: 0.2010\n",
      " 55: 0.1990\n",
      " 56: 0.2006\n",
      " 57: 0.1977\n",
      " 58: 0.1994\n",
      " 59: 0.2013\n",
      " 60: 0.1980\n",
      " 61: 0.2008\n",
      " 62: 0.1980\n",
      " 63: 0.2011\n",
      " 64: 0.2023\n",
      " 65: 0.2042\n",
      " 66: 0.1983\n",
      " 67: 0.2012\n",
      " 68: 0.2018\n",
      " 69: 0.2021\n",
      " 70: 0.2002\n",
      " 71: 0.2008\n",
      " 72: 0.2002\n",
      " 73: 0.2019\n",
      " 74: 0.2015\n",
      " 75: 0.1977\n",
      " 76: 0.2006\n",
      " 77: 0.1973\n",
      " 78: 0.2012\n",
      " 79: 0.2004\n",
      " 80: 0.1995\n",
      " 81: 0.2051\n",
      " 82: 0.2031\n",
      " 83: 0.2040\n",
      " 84: 0.2029\n",
      " 85: 0.1974\n",
      " 86: 0.1984\n",
      " 87: 0.2031\n",
      " 88: 0.1969\n",
      " 89: 0.2022\n",
      " 90: 0.1991\n",
      " 91: 0.2016\n",
      " 92: 0.1995\n",
      " 93: 0.1991\n",
      " 94: 0.2017\n",
      " 95: 0.2018\n",
      " 96: 0.1980\n",
      " 97: 0.2012\n",
      " 98: 0.1989\n",
      " 99: 0.1995\n"
     ]
    }
   ],
   "source": [
    "ps_estimated_result_list = bootstrap_estimating(random_sample_df, num_bootstrap=100, calibration_curve='platt scaling', verbose=True)"
   ]
  },
  {
   "cell_type": "code",
   "execution_count": 42,
   "metadata": {},
   "outputs": [
    {
     "data": {
      "text/plain": [
       "(0.2008001817092056, 0.1966974750058021, 0.20458216656448291)"
      ]
     },
     "execution_count": 42,
     "metadata": {},
     "output_type": "execute_result"
    }
   ],
   "source": [
    "get_median_CI(ps_estimated_result_list)"
   ]
  },
  {
   "cell_type": "markdown",
   "metadata": {},
   "source": [
    "## Why "
   ]
  },
  {
   "cell_type": "markdown",
   "metadata": {},
   "source": [
    "### 2.2 Uniform sampling on C(X)\n",
    "\n",
    "check if uniform will give us a tighter confidence intervals"
   ]
  },
  {
   "cell_type": "code",
   "execution_count": 43,
   "metadata": {},
   "outputs": [],
   "source": [
    "base_dh.hide_all_oracle()"
   ]
  },
  {
   "cell_type": "code",
   "execution_count": 44,
   "metadata": {},
   "outputs": [
    {
     "data": {
      "text/plain": [
       "0"
      ]
     },
     "execution_count": 44,
     "metadata": {},
     "output_type": "execute_result"
    }
   ],
   "source": [
    "base_dh.count_gt()"
   ]
  },
  {
   "cell_type": "code",
   "execution_count": 45,
   "metadata": {},
   "outputs": [],
   "source": [
    "sampeld_rows = base_dh.get_sample_for_labeling(n_item=1000, strategy='uniform on C(X)')"
   ]
  },
  {
   "cell_type": "code",
   "execution_count": 46,
   "metadata": {},
   "outputs": [],
   "source": [
    "base_dh.get_oracle_labels(rows=sampeld_rows)"
   ]
  },
  {
   "cell_type": "code",
   "execution_count": 47,
   "metadata": {},
   "outputs": [
    {
     "data": {
      "text/plain": [
       "1000"
      ]
     },
     "execution_count": 47,
     "metadata": {},
     "output_type": "execute_result"
    }
   ],
   "source": [
    "base_dh.count_gt()"
   ]
  },
  {
   "cell_type": "code",
   "execution_count": 48,
   "metadata": {},
   "outputs": [
    {
     "data": {
      "text/html": [
       "<div>\n",
       "<style scoped>\n",
       "    .dataframe tbody tr th:only-of-type {\n",
       "        vertical-align: middle;\n",
       "    }\n",
       "\n",
       "    .dataframe tbody tr th {\n",
       "        vertical-align: top;\n",
       "    }\n",
       "\n",
       "    .dataframe thead th {\n",
       "        text-align: right;\n",
       "    }\n",
       "</style>\n",
       "<table border=\"1\" class=\"dataframe\">\n",
       "  <thead>\n",
       "    <tr style=\"text-align: right;\">\n",
       "      <th></th>\n",
       "      <th>C(X)</th>\n",
       "      <th>GT</th>\n",
       "    </tr>\n",
       "  </thead>\n",
       "  <tbody>\n",
       "    <tr>\n",
       "      <td>0</td>\n",
       "      <td>0.254796</td>\n",
       "      <td>False</td>\n",
       "    </tr>\n",
       "    <tr>\n",
       "      <td>1</td>\n",
       "      <td>0.888630</td>\n",
       "      <td>True</td>\n",
       "    </tr>\n",
       "    <tr>\n",
       "      <td>2</td>\n",
       "      <td>0.815468</td>\n",
       "      <td>True</td>\n",
       "    </tr>\n",
       "    <tr>\n",
       "      <td>3</td>\n",
       "      <td>0.801820</td>\n",
       "      <td>True</td>\n",
       "    </tr>\n",
       "    <tr>\n",
       "      <td>4</td>\n",
       "      <td>0.209585</td>\n",
       "      <td>False</td>\n",
       "    </tr>\n",
       "    <tr>\n",
       "      <td>...</td>\n",
       "      <td>...</td>\n",
       "      <td>...</td>\n",
       "    </tr>\n",
       "    <tr>\n",
       "      <td>2442</td>\n",
       "      <td>0.654026</td>\n",
       "      <td>True</td>\n",
       "    </tr>\n",
       "    <tr>\n",
       "      <td>2445</td>\n",
       "      <td>0.669955</td>\n",
       "      <td>False</td>\n",
       "    </tr>\n",
       "    <tr>\n",
       "      <td>2521</td>\n",
       "      <td>0.676332</td>\n",
       "      <td>True</td>\n",
       "    </tr>\n",
       "    <tr>\n",
       "      <td>2547</td>\n",
       "      <td>0.645266</td>\n",
       "      <td>True</td>\n",
       "    </tr>\n",
       "    <tr>\n",
       "      <td>2551</td>\n",
       "      <td>0.654330</td>\n",
       "      <td>True</td>\n",
       "    </tr>\n",
       "  </tbody>\n",
       "</table>\n",
       "<p>1000 rows × 2 columns</p>\n",
       "</div>"
      ],
      "text/plain": [
       "          C(X)     GT\n",
       "0     0.254796  False\n",
       "1     0.888630   True\n",
       "2     0.815468   True\n",
       "3     0.801820   True\n",
       "4     0.209585  False\n",
       "...        ...    ...\n",
       "2442  0.654026   True\n",
       "2445  0.669955  False\n",
       "2521  0.676332   True\n",
       "2547  0.645266   True\n",
       "2551  0.654330   True\n",
       "\n",
       "[1000 rows x 2 columns]"
      ]
     },
     "execution_count": 48,
     "metadata": {},
     "output_type": "execute_result"
    }
   ],
   "source": [
    "base_dh.sample_df"
   ]
  },
  {
   "cell_type": "code",
   "execution_count": 49,
   "metadata": {},
   "outputs": [],
   "source": [
    "purposive_sample_df = base_dh.sample_df"
   ]
  },
  {
   "cell_type": "code",
   "execution_count": 50,
   "metadata": {},
   "outputs": [
    {
     "data": {
      "image/png": "[encoded data removed]",
      "text/plain": [
       "<Figure size 1152x216 with 5 Axes>"
      ]
     },
     "metadata": {
      "needs_background": "light"
     },
     "output_type": "display_data"
    }
   ],
   "source": [
    "base_dh.generate_all_distribution_plots(df=purposive_sample_df, num_bin=10)"
   ]
  },
  {
   "cell_type": "code",
   "execution_count": 51,
   "metadata": {},
   "outputs": [
    {
     "data": {
      "image/png": "[encoded data removed]",
      "text/plain": [
       "<Figure size 1152x216 with 5 Axes>"
      ]
     },
     "metadata": {
      "needs_background": "light"
     },
     "output_type": "display_data"
    }
   ],
   "source": [
    "base_dh.generate_all_distribution_plots(df=random_sample_df, num_bin=10)"
   ]
  },
  {
   "cell_type": "markdown",
   "metadata": {},
   "source": [
    "### What if we use a different sample df?"
   ]
  },
  {
   "cell_type": "code",
   "execution_count": 53,
   "metadata": {
    "scrolled": true
   },
   "outputs": [
    {
     "name": "stdout",
     "output_type": "stream",
     "text": [
      "  0: 0.2039\n",
      "  1: 0.2027\n",
      "  2: 0.2053\n",
      "  3: 0.1981\n",
      "  4: 0.2031\n",
      "  5: 0.2060\n",
      "  6: 0.2010\n",
      "  7: 0.2027\n",
      "  8: 0.2044\n",
      "  9: 0.2007\n",
      " 10: 0.1988\n",
      " 11: 0.1957\n",
      " 12: 0.2031\n",
      " 13: 0.2027\n",
      " 14: 0.2034\n",
      " 15: 0.2059\n",
      " 16: 0.2041\n",
      " 17: 0.2011\n",
      " 18: 0.2014\n",
      " 19: 0.1999\n",
      " 20: 0.2010\n",
      " 21: 0.2051\n",
      " 22: 0.2044\n",
      " 23: 0.1978\n",
      " 24: 0.2046\n",
      " 25: 0.2046\n",
      " 26: 0.2027\n",
      " 27: 0.2025\n",
      " 28: 0.1956\n",
      " 29: 0.2010\n",
      " 30: 0.2004\n",
      " 31: 0.2017\n",
      " 32: 0.2083\n",
      " 33: 0.1981\n",
      " 34: 0.1939\n",
      " 35: 0.2059\n",
      " 36: 0.2028\n",
      " 37: 0.1945\n",
      " 38: 0.2013\n",
      " 39: 0.1992\n",
      " 40: 0.2096\n",
      " 41: 0.2034\n",
      " 42: 0.1997\n",
      " 43: 0.2000\n",
      " 44: 0.2039\n",
      " 45: 0.2076\n",
      " 46: 0.1992\n",
      " 47: 0.2017\n",
      " 48: 0.2051\n",
      " 49: 0.2022\n",
      " 50: 0.1996\n",
      " 51: 0.1993\n",
      " 52: 0.1990\n",
      " 53: 0.2042\n",
      " 54: 0.2042\n",
      " 55: 0.1988\n",
      " 56: 0.2010\n",
      " 57: 0.1972\n",
      " 58: 0.2019\n",
      " 59: 0.1999\n",
      " 60: 0.1991\n",
      " 61: 0.2068\n",
      " 62: 0.2019\n",
      " 63: 0.2027\n",
      " 64: 0.1998\n",
      " 65: 0.2014\n",
      " 66: 0.2044\n",
      " 67: 0.2035\n",
      " 68: 0.2045\n",
      " 69: 0.2002\n",
      " 70: 0.2057\n",
      " 71: 0.1998\n",
      " 72: 0.1990\n",
      " 73: 0.2021\n",
      " 74: 0.2070\n",
      " 75: 0.1997\n",
      " 76: 0.2014\n",
      " 77: 0.2001\n",
      " 78: 0.1995\n",
      " 79: 0.2082\n",
      " 80: 0.2012\n",
      " 81: 0.1994\n",
      " 82: 0.2010\n",
      " 83: 0.2025\n",
      " 84: 0.2015\n",
      " 85: 0.1995\n",
      " 86: 0.2058\n",
      " 87: 0.1973\n",
      " 88: 0.1980\n",
      " 89: 0.1957\n",
      " 90: 0.2041\n",
      " 91: 0.1988\n",
      " 92: 0.2055\n",
      " 93: 0.1998\n",
      " 94: 0.2002\n",
      " 95: 0.2068\n",
      " 96: 0.1972\n",
      " 97: 0.2038\n",
      " 98: 0.2000\n",
      " 99: 0.2003\n"
     ]
    }
   ],
   "source": [
    "npbin_estimated_result_list = bootstrap_estimating(purposive_sample_df, num_bootstrap=100, calibration_curve='nonparametric binning', verbose=True)"
   ]
  },
  {
   "cell_type": "code",
   "execution_count": 54,
   "metadata": {},
   "outputs": [
    {
     "data": {
      "text/plain": [
       "(0.2014390307200452, 0.19565537431071953, 0.2079171629171394)"
      ]
     },
     "execution_count": 54,
     "metadata": {},
     "output_type": "execute_result"
    }
   ],
   "source": [
    "get_median_CI(npbin_estimated_result_list)"
   ]
  },
  {
   "cell_type": "code",
   "execution_count": 55,
   "metadata": {
    "scrolled": true
   },
   "outputs": [
    {
     "name": "stdout",
     "output_type": "stream",
     "text": [
      "  0: 0.2078\n",
      "  1: 0.2068\n",
      "  2: 0.2107\n",
      "  3: 0.2057\n",
      "  4: 0.2032\n",
      "  5: 0.2046\n",
      "  6: 0.2097\n",
      "  7: 0.2105\n",
      "  8: 0.2124\n",
      "  9: 0.2114\n",
      " 10: 0.2129\n",
      " 11: 0.2127\n",
      " 12: 0.2060\n",
      " 13: 0.2117\n",
      " 14: 0.2128\n",
      " 15: 0.2107\n",
      " 16: 0.2142\n",
      " 17: 0.2113\n",
      " 18: 0.2149\n",
      " 19: 0.2061\n",
      " 20: 0.2048\n",
      " 21: 0.2036\n",
      " 22: 0.2006\n",
      " 23: 0.2058\n",
      " 24: 0.2056\n",
      " 25: 0.2076\n",
      " 26: 0.2061\n",
      " 27: 0.2027\n",
      " 28: 0.2013\n",
      " 29: 0.2093\n",
      " 30: 0.2066\n",
      " 31: 0.2093\n",
      " 32: 0.2116\n",
      " 33: 0.2102\n",
      " 34: 0.2022\n",
      " 35: 0.2079\n",
      " 36: 0.2038\n",
      " 37: 0.2076\n",
      " 38: 0.2100\n",
      " 39: 0.2024\n",
      " 40: 0.2029\n",
      " 41: 0.2092\n",
      " 42: 0.2134\n",
      " 43: 0.2055\n",
      " 44: 0.2071\n",
      " 45: 0.1949\n",
      " 46: 0.2141\n",
      " 47: 0.2124\n",
      " 48: 0.2087\n",
      " 49: 0.2046\n",
      " 50: 0.2063\n",
      " 51: 0.2094\n",
      " 52: 0.2097\n",
      " 53: 0.2124\n",
      " 54: 0.2090\n",
      " 55: 0.2124\n",
      " 56: 0.2117\n",
      " 57: 0.2103\n",
      " 58: 0.1995\n",
      " 59: 0.2019\n",
      " 60: 0.2128\n",
      " 61: 0.2116\n",
      " 62: 0.2050\n",
      " 63: 0.2117\n",
      " 64: 0.2075\n",
      " 65: 0.2066\n",
      " 66: 0.2106\n",
      " 67: 0.2095\n",
      " 68: 0.2109\n",
      " 69: 0.2061\n",
      " 70: 0.2146\n",
      " 71: 0.2044\n",
      " 72: 0.2068\n",
      " 73: 0.2124\n",
      " 74: 0.2094\n",
      " 75: 0.2067\n",
      " 76: 0.2065\n",
      " 77: 0.2046\n",
      " 78: 0.2047\n",
      " 79: 0.2150\n",
      " 80: 0.2139\n",
      " 81: 0.2106\n",
      " 82: 0.1960\n",
      " 83: 0.2060\n",
      " 84: 0.2109\n",
      " 85: 0.1990\n",
      " 86: 0.2066\n",
      " 87: 0.2070\n",
      " 88: 0.2119\n",
      " 89: 0.2113\n",
      " 90: 0.2085\n",
      " 91: 0.2063\n",
      " 92: 0.2061\n",
      " 93: 0.2162\n",
      " 94: 0.2105\n",
      " 95: 0.1989\n",
      " 96: 0.2022\n",
      " 97: 0.2066\n",
      " 98: 0.2055\n",
      " 99: 0.2094\n"
     ]
    }
   ],
   "source": [
    "ps_estimated_result_list = bootstrap_estimating(purposive_sample_df, num_bootstrap=100, calibration_curve='platt scaling', verbose=True)"
   ]
  },
  {
   "cell_type": "code",
   "execution_count": 56,
   "metadata": {},
   "outputs": [
    {
     "data": {
      "text/plain": [
       "(0.20784127930226917, 0.19895216098477497, 0.21477595603066207)"
      ]
     },
     "execution_count": 56,
     "metadata": {},
     "output_type": "execute_result"
    }
   ],
   "source": [
    "get_median_CI(ps_estimated_result_list)"
   ]
  },
  {
   "cell_type": "markdown",
   "metadata": {},
   "source": [
    "## Sec 3. Extrapolation phase"
   ]
  },
  {
   "cell_type": "markdown",
   "metadata": {},
   "source": [
    "show the five distribution plots for the base period in one row"
   ]
  },
  {
   "cell_type": "markdown",
   "metadata": {},
   "source": [
    "### 3.1 Borrow the calibration curve learned from the base dataset"
   ]
  },
  {
   "cell_type": "code",
   "execution_count": null,
   "metadata": {},
   "outputs": [],
   "source": [
    "PE_Estimator(target_dh, calibration_curve_base)"
   ]
  },
  {
   "cell_type": "code",
   "execution_count": null,
   "metadata": {},
   "outputs": [],
   "source": [
    "# fill in the result spreadsheet"
   ]
  },
  {
   "cell_type": "markdown",
   "metadata": {},
   "source": [
    "### 3.3 Borrow the class-conditional densities learned from the base dataset"
   ]
  },
  {
   "cell_type": "markdown",
   "metadata": {},
   "source": [
    "Introduce the MM model"
   ]
  },
  {
   "cell_type": "code",
   "execution_count": null,
   "metadata": {},
   "outputs": [],
   "source": [
    "MM_Estimator(target_dh, class_density_base)"
   ]
  },
  {
   "cell_type": "code",
   "execution_count": null,
   "metadata": {},
   "outputs": [],
   "source": [
    "# bootstrap"
   ]
  },
  {
   "cell_type": "code",
   "execution_count": null,
   "metadata": {},
   "outputs": [],
   "source": []
  },
  {
   "cell_type": "code",
   "execution_count": null,
   "metadata": {},
   "outputs": [],
   "source": []
  },
  {
   "cell_type": "code",
   "execution_count": null,
   "metadata": {},
   "outputs": [],
   "source": [
    "base_dh.plot_calibration_curve(df=base_dh.sample_df, num_bin=100, method='platt scaling', title='sample_calibration_curve')"
   ]
  },
  {
   "cell_type": "code",
   "execution_count": null,
   "metadata": {},
   "outputs": [],
   "source": [
    "labeled_sample = base_dh.get_labeled_sample()\n",
    "items = [(cx, gt) for cx, gt in zip(labeled_sample['UC(X)'].values, labeled_sample['GT'].values)]\n",
    "num_sample = len(items)"
   ]
  },
  {
   "cell_type": "code",
   "execution_count": null,
   "metadata": {},
   "outputs": [],
   "source": [
    "# bootstrap for CI\n",
    "num_bootstrap = 1000\n",
    "results = np.zeros((num_bootstrap, 101))\n",
    "est_result_list = []\n",
    "target_results = np.zeros((num_bootstrap, 101))\n",
    "target_result_list = []"
   ]
  },
  {
   "cell_type": "code",
   "execution_count": null,
   "metadata": {},
   "outputs": [],
   "source": [
    "empir_cx_axis = np.linspace(0, 1, 101)\n",
    "for idx in range(num_bootstrap):\n",
    "    bootstrapped_items = random.choices(items, k=num_sample)\n",
    "    bootstrapped_train_UCX = np.array([cx for cx, gt in bootstrapped_items]).reshape(-1, 1)\n",
    "    bootstrapped_train_GT = np.array([gt for cx, gt in bootstrapped_items])\n",
    "    bootstrapped_prob_cali_func = LogisticRegression(solver='lbfgs', fit_intercept=True).fit(bootstrapped_train_UCX, bootstrapped_train_GT)\n",
    "\n",
    "    bootstrapped_prob_cali_curve = bootstrapped_prob_cali_func.predict_proba(empir_cx_axis.reshape(-1, 1))[:, -1]\n",
    "    results[idx, :] = bootstrapped_prob_cali_curve.reshape(1, -1)\n",
    "    \n",
    "    bootstrapped_cali_prob_scores = bootstrapped_prob_cali_func.predict_proba(base_dh.observed_df['UC(X)'].values.reshape(-1, 1))[:, -1]\n",
    "    est_pcc = bootstrapped_cali_prob_scores.sum() / len(bootstrapped_cali_prob_scores)\n",
    "    est_result_list.append(est_pcc)    \n",
    "    \n",
    "    bootstrapped_cali_prob_scores = bootstrapped_prob_cali_func.predict_proba(target_dh.observed_df['UC(X)'].values.reshape(-1, 1))[:, -1]\n",
    "    est_pcc = bootstrapped_cali_prob_scores.sum() / len(bootstrapped_cali_prob_scores)\n",
    "    target_result_list.append(est_pcc) "
   ]
  },
  {
   "cell_type": "code",
   "execution_count": null,
   "metadata": {},
   "outputs": [],
   "source": [
    "results"
   ]
  },
  {
   "cell_type": "code",
   "execution_count": null,
   "metadata": {},
   "outputs": [],
   "source": [
    "np.median(est_result_list), np.percentile(est_result_list, q=2.5), np.percentile(est_result_list, q=97.5)"
   ]
  },
  {
   "cell_type": "code",
   "execution_count": null,
   "metadata": {},
   "outputs": [],
   "source": [
    "target_dh._p_gt"
   ]
  },
  {
   "cell_type": "code",
   "execution_count": null,
   "metadata": {},
   "outputs": [],
   "source": [
    "np.median(target_result_list), np.percentile(target_result_list, q=2.5), np.percentile(target_result_list, q=97.5)"
   ]
  },
  {
   "cell_type": "code",
   "execution_count": null,
   "metadata": {},
   "outputs": [],
   "source": [
    "results.shape"
   ]
  },
  {
   "cell_type": "code",
   "execution_count": null,
   "metadata": {},
   "outputs": [],
   "source": [
    "empir_cx_axis = np.linspace(0, 1, 101)\n",
    "\n",
    "mediaum_prob_cali_curve = np.median(results, axis=0)\n",
    "lower_prob_cali_curve = np.percentile(results, q=2.5, axis=0)\n",
    "upper_prob_cali_curve = np.percentile(results, q=97.5, axis=0)\n",
    "\n",
    "plt.plot(empir_cx_axis, mediaum_prob_cali_curve)\n",
    "plt.fill_between(empir_cx_axis, lower_prob_cali_curve, upper_prob_cali_curve, facecolor='r', alpha=0.2)"
   ]
  },
  {
   "cell_type": "code",
   "execution_count": null,
   "metadata": {},
   "outputs": [],
   "source": [
    "cali_prob_scores = prob_cali_func.predict_proba(base_dh.observed_df['UC(X)'].values.reshape(-1, 1))[:, -1]"
   ]
  },
  {
   "cell_type": "code",
   "execution_count": null,
   "metadata": {},
   "outputs": [],
   "source": [
    "cali_prob_scores.sum() / len(cali_prob_scores)"
   ]
  },
  {
   "cell_type": "markdown",
   "metadata": {},
   "source": [
    "## 3.3 learn the class-conditional density function"
   ]
  },
  {
   "cell_type": "code",
   "execution_count": null,
   "metadata": {},
   "outputs": [],
   "source": [
    "# bootstrap for CI\n",
    "num_bootstrap = 100\n",
    "pos_results = np.zeros((num_bootstrap, 10))\n",
    "neg_results = np.zeros((num_bootstrap, 10))\n",
    "\n",
    "est_result_list = []\n",
    "target_result_list = []"
   ]
  },
  {
   "cell_type": "code",
   "execution_count": null,
   "metadata": {},
   "outputs": [],
   "source": [
    "for idx in range(num_bootstrap):\n",
    "    bootstrapped_items = random.choices(items, k=num_sample)\n",
    "    bootstrapped_train_UCX = np.array([cx for cx, gt in bootstrapped_items]).reshape(-1, 1)\n",
    "    bootstrapped_train_GT = np.array([gt for cx, gt in bootstrapped_items])\n",
    "    \n",
    "    obs_freq, _ = np.histogram(bootstrapped_train_UCX, bins=np.linspace(0, 1, 11))\n",
    "    pos_freq, _ = np.histogram(bootstrapped_train_UCX[bootstrapped_train_GT == True], bins=np.linspace(0, 1, 11))\n",
    "    neg_freq, _ = np.histogram(bootstrapped_train_UCX[bootstrapped_train_GT == False], bins=np.linspace(0, 1, 11))\n",
    "    \n",
    "    obs_freq = obs_freq / obs_freq.sum()\n",
    "    pos_freq = pos_freq / pos_freq.sum()\n",
    "    neg_freq = neg_freq / neg_freq.sum()\n",
    "    \n",
    "    pos_results[idx, :] = pos_freq\n",
    "    neg_results[idx, :] = neg_freq\n",
    "    \n",
    "    min_dist = 100\n",
    "    best_p_p = 0\n",
    "\n",
    "    for p_p in np.linspace(0, 1, 101):\n",
    "        dist = hellinger(obs_freq, pos_freq * p_p + neg_freq * (1 - p_p))\n",
    "        if dist < min_dist:\n",
    "            min_dist = dist\n",
    "            best_p_p = p_p\n",
    "    \n",
    "    est_result_list.append(best_p_p)\n",
    "    \n",
    "    target_obs_freq, _ = np.histogram(target_dh.observed_df['UC(X)'].values, bins=np.linspace(0, 1, 11))\n",
    "    target_obs_freq = target_obs_freq / target_obs_freq.sum()\n",
    "    \n",
    "    min_dist = 100\n",
    "    best_p_p = 0\n",
    "\n",
    "    for p_p in np.linspace(0, 1, 101):\n",
    "        dist = hellinger(target_obs_freq, pos_freq * p_p + neg_freq * (1 - p_p))\n",
    "        if dist < min_dist:\n",
    "            min_dist = dist\n",
    "            best_p_p = p_p\n",
    "\n",
    "    target_result_list.append(best_p_p)    "
   ]
  },
  {
   "cell_type": "code",
   "execution_count": null,
   "metadata": {},
   "outputs": [],
   "source": [
    "np.median(est_result_list), np.percentile(est_result_list, q=2.5), np.percentile(est_result_list, q=97.5)"
   ]
  },
  {
   "cell_type": "code",
   "execution_count": null,
   "metadata": {},
   "outputs": [],
   "source": [
    "np.median(target_result_list), np.percentile(target_result_list, q=2.5), np.percentile(target_result_list, q=97.5)"
   ]
  },
  {
   "cell_type": "code",
   "execution_count": null,
   "metadata": {},
   "outputs": [],
   "source": [
    "target_dh._p_gt"
   ]
  },
  {
   "cell_type": "code",
   "execution_count": null,
   "metadata": {},
   "outputs": [],
   "source": [
    "plt.hist(labeled_sample['UC(X)'].values, bins=np.linspace(0, 1, 11))"
   ]
  },
  {
   "cell_type": "code",
   "execution_count": null,
   "metadata": {},
   "outputs": [],
   "source": [
    "obs_freq, _, _ = plt.hist(base_dh.observed_df['UC(X)'].values, bins=np.linspace(0, 1, 11))"
   ]
  },
  {
   "cell_type": "code",
   "execution_count": null,
   "metadata": {},
   "outputs": [],
   "source": [
    "obs_freq /= obs_freq.sum()"
   ]
  },
  {
   "cell_type": "code",
   "execution_count": null,
   "metadata": {},
   "outputs": [],
   "source": [
    "pos_freq, _, _ = plt.hist(labeled_sample[labeled_sample['GT'] == True]['UC(X)'].values, bins=np.linspace(0, 1, 11), alpha=0.5)\n",
    "neg_freq, _, _ = plt.hist(labeled_sample[labeled_sample['GT'] == False]['UC(X)'].values, bins=np.linspace(0, 1, 11), alpha=0.5)"
   ]
  },
  {
   "cell_type": "code",
   "execution_count": null,
   "metadata": {},
   "outputs": [],
   "source": [
    "mediaum_pos_density = np.median(pos_results, axis=0)\n",
    "lower_pos_density = np.percentile(pos_results, q=2.5, axis=0)\n",
    "upper_pos_density = np.percentile(pos_results, q=97.5, axis=0)\n",
    "\n",
    "mediaum_neg_density = np.median(neg_results, axis=0)\n",
    "lower_neg_density = np.percentile(neg_results, q=2.5, axis=0)\n",
    "upper_neg_density = np.percentile(neg_results, q=97.5, axis=0)\n",
    "\n",
    "empir_cx_axis = np.linspace(0, 1, 10)\n",
    "\n",
    "plt.plot(empir_cx_axis, mediaum_pos_density)\n",
    "plt.fill_between(empir_cx_axis, lower_pos_density, upper_pos_density, alpha=0.2)\n",
    "\n",
    "plt.plot(empir_cx_axis, mediaum_neg_density)\n",
    "plt.fill_between(empir_cx_axis, lower_neg_density, upper_neg_density, alpha=0.2)"
   ]
  },
  {
   "cell_type": "code",
   "execution_count": null,
   "metadata": {},
   "outputs": [],
   "source": [
    "pos_freq /= pos_freq.sum()\n",
    "neg_freq /= neg_freq.sum()"
   ]
  },
  {
   "cell_type": "code",
   "execution_count": null,
   "metadata": {},
   "outputs": [],
   "source": [
    "_SQRT2 = np.sqrt(2)\n",
    "\n",
    "def hellinger(p, q):\n",
    "    return np.sqrt(np.sum((np.sqrt(p) - np.sqrt(q)) ** 2)) / _SQRT2"
   ]
  },
  {
   "cell_type": "code",
   "execution_count": null,
   "metadata": {},
   "outputs": [],
   "source": [
    "min_dist = 100\n",
    "best_p_p = 0\n",
    "\n",
    "for p_p in np.linspace(0, 1, 101):\n",
    "    dist = hellinger(obs_freq, pos_freq * p_p + neg_freq * (1 - p_p))\n",
    "    if dist < min_dist:\n",
    "        min_dist = dist\n",
    "        best_p_p = p_p"
   ]
  },
  {
   "cell_type": "code",
   "execution_count": null,
   "metadata": {},
   "outputs": [],
   "source": [
    "best_p_p, min_dist"
   ]
  },
  {
   "cell_type": "markdown",
   "metadata": {},
   "source": [
    "# 4. estimate for the target period"
   ]
  },
  {
   "cell_type": "markdown",
   "metadata": {},
   "source": [
    "## 4.1 PCC"
   ]
  },
  {
   "cell_type": "code",
   "execution_count": null,
   "metadata": {},
   "outputs": [],
   "source": [
    "target_cali_prob_scores = prob_cali_func.predict_proba(target_dh.observed_df['UC(X)'].values.reshape(-1, 1))[:, -1]"
   ]
  },
  {
   "cell_type": "code",
   "execution_count": null,
   "metadata": {},
   "outputs": [],
   "source": [
    "target_cali_prob_scores.sum() / len(target_cali_prob_scores)"
   ]
  },
  {
   "cell_type": "markdown",
   "metadata": {},
   "source": [
    "## 4.2 MM"
   ]
  },
  {
   "cell_type": "code",
   "execution_count": null,
   "metadata": {},
   "outputs": [],
   "source": [
    "target_obs_freq, _, _ = plt.hist(target_dh.observed_df['UC(X)'].values, bins=np.linspace(0, 1, 11))"
   ]
  },
  {
   "cell_type": "code",
   "execution_count": null,
   "metadata": {},
   "outputs": [],
   "source": [
    "min_dist = 10000\n",
    "best_p_p = 0\n",
    "\n",
    "for p_p in np.linspace(0, 1, 101):\n",
    "    dist = hellinger(target_obs_freq, pos_freq * p_p + neg_freq * (1 - p_p))\n",
    "    if dist < min_dist:\n",
    "        min_dist = dist\n",
    "        best_p_p = p_p"
   ]
  },
  {
   "cell_type": "code",
   "execution_count": null,
   "metadata": {},
   "outputs": [],
   "source": [
    "best_p_p, min_dist"
   ]
  },
  {
   "cell_type": "markdown",
   "metadata": {},
   "source": [
    "# Target"
   ]
  },
  {
   "cell_type": "code",
   "execution_count": null,
   "metadata": {},
   "outputs": [],
   "source": [
    "target_dh = DataHandler('data/dataset1_target.csv')"
   ]
  },
  {
   "cell_type": "code",
   "execution_count": null,
   "metadata": {},
   "outputs": [],
   "source": [
    "target_dh.plot_dist_classifier_scores(num_bin=100, title='target_dist_classifier_scores')"
   ]
  },
  {
   "cell_type": "code",
   "execution_count": null,
   "metadata": {},
   "outputs": [],
   "source": [
    "median_calibration_curve = np.median(results, axis=0)"
   ]
  },
  {
   "cell_type": "code",
   "execution_count": null,
   "metadata": {},
   "outputs": [],
   "source": [
    "target_dh.get_pcc(num_bin=100, calibration_curve=median_calibration_curve, title='target_pcc_stacked_frequency')"
   ]
  },
  {
   "cell_type": "code",
   "execution_count": null,
   "metadata": {},
   "outputs": [],
   "source": [
    "target_dh.plot_dist_gt_labels(set_pp=True, p_p=np.median(target_result_list), title='target_pcc_dist_gt_labels')"
   ]
  },
  {
   "cell_type": "code",
   "execution_count": null,
   "metadata": {},
   "outputs": [],
   "source": []
  }
 ],
 "metadata": {
  "kernelspec": {
   "display_name": "Python 3",
   "language": "python",
   "name": "python3"
  },
  "language_info": {
   "codemirror_mode": {
    "name": "ipython",
    "version": 3
   },
   "file_extension": ".py",
   "mimetype": "text/x-python",
   "name": "python",
   "nbconvert_exporter": "python",
   "pygments_lexer": "ipython3",
   "version": "3.7.4"
  }
 },
 "nbformat": 4,
 "nbformat_minor": 5
}
