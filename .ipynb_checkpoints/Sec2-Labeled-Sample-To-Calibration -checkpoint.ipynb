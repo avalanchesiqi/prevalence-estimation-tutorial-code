{
 "cells": [
  {
   "cell_type": "markdown",
   "metadata": {},
   "source": [
    "# Use a label sample to calibrate the estimation on a base dataset"
   ]
  },
  {
   "cell_type": "code",
   "execution_count": 1,
   "metadata": {},
   "outputs": [],
   "source": [
    "import numpy as np\n",
    "import pandas as pd\n",
    "from scipy import stats\n",
    "from matplotlib import pyplot as plt\n",
    "from sklearn.metrics import confusion_matrix\n",
    "\n",
    "from util import plot_stacked_frequency\n",
    "from util import DataHandler, NPBinningCalibrationCurve, LogisticCalibrationCurve, ProbabilityEstimator"
   ]
  },
  {
   "cell_type": "markdown",
   "metadata": {},
   "source": [
    "## 1. Load an unlabeled dataset"
   ]
  },
  {
   "cell_type": "code",
   "execution_count": 2,
   "metadata": {},
   "outputs": [],
   "source": [
    "# base is a very large dataset\n",
    "base_dh = DataHandler('data/dataset1_base.csv')"
   ]
  },
  {
   "cell_type": "code",
   "execution_count": 19,
   "metadata": {},
   "outputs": [],
   "source": [
    "# TODO: change the dataset to 'data/dataset1_target.csv'\n",
    "# base_dh = DataHandler('data/dataset1_target.csv')"
   ]
  },
  {
   "cell_type": "code",
   "execution_count": 3,
   "metadata": {},
   "outputs": [
    {
     "data": {
      "text/html": [
       "<div>\n",
       "<style scoped>\n",
       "    .dataframe tbody tr th:only-of-type {\n",
       "        vertical-align: middle;\n",
       "    }\n",
       "\n",
       "    .dataframe tbody tr th {\n",
       "        vertical-align: top;\n",
       "    }\n",
       "\n",
       "    .dataframe thead th {\n",
       "        text-align: right;\n",
       "    }\n",
       "</style>\n",
       "<table border=\"1\" class=\"dataframe\">\n",
       "  <thead>\n",
       "    <tr style=\"text-align: right;\">\n",
       "      <th></th>\n",
       "      <th>C(X)</th>\n",
       "      <th>GT</th>\n",
       "    </tr>\n",
       "  </thead>\n",
       "  <tbody>\n",
       "    <tr>\n",
       "      <td>0</td>\n",
       "      <td>0.254796</td>\n",
       "      <td></td>\n",
       "    </tr>\n",
       "    <tr>\n",
       "      <td>1</td>\n",
       "      <td>0.888630</td>\n",
       "      <td></td>\n",
       "    </tr>\n",
       "    <tr>\n",
       "      <td>2</td>\n",
       "      <td>0.815468</td>\n",
       "      <td></td>\n",
       "    </tr>\n",
       "    <tr>\n",
       "      <td>3</td>\n",
       "      <td>0.801820</td>\n",
       "      <td></td>\n",
       "    </tr>\n",
       "    <tr>\n",
       "      <td>4</td>\n",
       "      <td>0.209585</td>\n",
       "      <td></td>\n",
       "    </tr>\n",
       "    <tr>\n",
       "      <td>...</td>\n",
       "      <td>...</td>\n",
       "      <td>...</td>\n",
       "    </tr>\n",
       "    <tr>\n",
       "      <td>99995</td>\n",
       "      <td>0.383462</td>\n",
       "      <td></td>\n",
       "    </tr>\n",
       "    <tr>\n",
       "      <td>99996</td>\n",
       "      <td>0.937050</td>\n",
       "      <td></td>\n",
       "    </tr>\n",
       "    <tr>\n",
       "      <td>99997</td>\n",
       "      <td>0.066808</td>\n",
       "      <td></td>\n",
       "    </tr>\n",
       "    <tr>\n",
       "      <td>99998</td>\n",
       "      <td>0.358555</td>\n",
       "      <td></td>\n",
       "    </tr>\n",
       "    <tr>\n",
       "      <td>99999</td>\n",
       "      <td>0.079117</td>\n",
       "      <td></td>\n",
       "    </tr>\n",
       "  </tbody>\n",
       "</table>\n",
       "<p>100000 rows × 2 columns</p>\n",
       "</div>"
      ],
      "text/plain": [
       "           C(X) GT\n",
       "0      0.254796   \n",
       "1      0.888630   \n",
       "2      0.815468   \n",
       "3      0.801820   \n",
       "4      0.209585   \n",
       "...         ... ..\n",
       "99995  0.383462   \n",
       "99996  0.937050   \n",
       "99997  0.066808   \n",
       "99998  0.358555   \n",
       "99999  0.079117   \n",
       "\n",
       "[100000 rows x 2 columns]"
      ]
     },
     "execution_count": 3,
     "metadata": {},
     "output_type": "execute_result"
    }
   ],
   "source": [
    "# you observe only classifier scores C(X), but no GT labels\n",
    "base_dh.observed_df"
   ]
  },
  {
   "cell_type": "code",
   "execution_count": 4,
   "metadata": {},
   "outputs": [
    {
     "data": {
      "text/plain": [
       "0"
      ]
     },
     "execution_count": 4,
     "metadata": {},
     "output_type": "execute_result"
    }
   ],
   "source": [
    "# count_gt() function returns the number of items with GT labels\n",
    "base_dh.count_gt()"
   ]
  },
  {
   "cell_type": "markdown",
   "metadata": {},
   "source": [
    "## 2. Assume that we have some budget to obtain the GT labels"
   ]
  },
  {
   "cell_type": "code",
   "execution_count": 5,
   "metadata": {},
   "outputs": [],
   "source": [
    "# the `get_oracle_labels` function will get the GT labels for specifc rows\n",
    "base_dh.get_oracle_labels(rows=[0, 1, 2])"
   ]
  },
  {
   "cell_type": "code",
   "execution_count": 6,
   "metadata": {},
   "outputs": [
    {
     "data": {
      "text/html": [
       "<div>\n",
       "<style scoped>\n",
       "    .dataframe tbody tr th:only-of-type {\n",
       "        vertical-align: middle;\n",
       "    }\n",
       "\n",
       "    .dataframe tbody tr th {\n",
       "        vertical-align: top;\n",
       "    }\n",
       "\n",
       "    .dataframe thead th {\n",
       "        text-align: right;\n",
       "    }\n",
       "</style>\n",
       "<table border=\"1\" class=\"dataframe\">\n",
       "  <thead>\n",
       "    <tr style=\"text-align: right;\">\n",
       "      <th></th>\n",
       "      <th>C(X)</th>\n",
       "      <th>GT</th>\n",
       "    </tr>\n",
       "  </thead>\n",
       "  <tbody>\n",
       "    <tr>\n",
       "      <td>0</td>\n",
       "      <td>0.254796</td>\n",
       "      <td>False</td>\n",
       "    </tr>\n",
       "    <tr>\n",
       "      <td>1</td>\n",
       "      <td>0.888630</td>\n",
       "      <td>True</td>\n",
       "    </tr>\n",
       "    <tr>\n",
       "      <td>2</td>\n",
       "      <td>0.815468</td>\n",
       "      <td>True</td>\n",
       "    </tr>\n",
       "    <tr>\n",
       "      <td>3</td>\n",
       "      <td>0.801820</td>\n",
       "      <td></td>\n",
       "    </tr>\n",
       "    <tr>\n",
       "      <td>4</td>\n",
       "      <td>0.209585</td>\n",
       "      <td></td>\n",
       "    </tr>\n",
       "    <tr>\n",
       "      <td>...</td>\n",
       "      <td>...</td>\n",
       "      <td>...</td>\n",
       "    </tr>\n",
       "    <tr>\n",
       "      <td>99995</td>\n",
       "      <td>0.383462</td>\n",
       "      <td></td>\n",
       "    </tr>\n",
       "    <tr>\n",
       "      <td>99996</td>\n",
       "      <td>0.937050</td>\n",
       "      <td></td>\n",
       "    </tr>\n",
       "    <tr>\n",
       "      <td>99997</td>\n",
       "      <td>0.066808</td>\n",
       "      <td></td>\n",
       "    </tr>\n",
       "    <tr>\n",
       "      <td>99998</td>\n",
       "      <td>0.358555</td>\n",
       "      <td></td>\n",
       "    </tr>\n",
       "    <tr>\n",
       "      <td>99999</td>\n",
       "      <td>0.079117</td>\n",
       "      <td></td>\n",
       "    </tr>\n",
       "  </tbody>\n",
       "</table>\n",
       "<p>100000 rows × 2 columns</p>\n",
       "</div>"
      ],
      "text/plain": [
       "           C(X)     GT\n",
       "0      0.254796  False\n",
       "1      0.888630   True\n",
       "2      0.815468   True\n",
       "3      0.801820       \n",
       "4      0.209585       \n",
       "...         ...    ...\n",
       "99995  0.383462       \n",
       "99996  0.937050       \n",
       "99997  0.066808       \n",
       "99998  0.358555       \n",
       "99999  0.079117       \n",
       "\n",
       "[100000 rows x 2 columns]"
      ]
     },
     "execution_count": 6,
     "metadata": {},
     "output_type": "execute_result"
    }
   ],
   "source": [
    "base_dh.observed_df"
   ]
  },
  {
   "cell_type": "code",
   "execution_count": 7,
   "metadata": {},
   "outputs": [
    {
     "data": {
      "text/html": [
       "<div>\n",
       "<style scoped>\n",
       "    .dataframe tbody tr th:only-of-type {\n",
       "        vertical-align: middle;\n",
       "    }\n",
       "\n",
       "    .dataframe tbody tr th {\n",
       "        vertical-align: top;\n",
       "    }\n",
       "\n",
       "    .dataframe thead th {\n",
       "        text-align: right;\n",
       "    }\n",
       "</style>\n",
       "<table border=\"1\" class=\"dataframe\">\n",
       "  <thead>\n",
       "    <tr style=\"text-align: right;\">\n",
       "      <th></th>\n",
       "      <th>C(X)</th>\n",
       "      <th>GT</th>\n",
       "    </tr>\n",
       "  </thead>\n",
       "  <tbody>\n",
       "    <tr>\n",
       "      <td>0</td>\n",
       "      <td>0.254796</td>\n",
       "      <td>False</td>\n",
       "    </tr>\n",
       "    <tr>\n",
       "      <td>1</td>\n",
       "      <td>0.888630</td>\n",
       "      <td>True</td>\n",
       "    </tr>\n",
       "    <tr>\n",
       "      <td>2</td>\n",
       "      <td>0.815468</td>\n",
       "      <td>True</td>\n",
       "    </tr>\n",
       "  </tbody>\n",
       "</table>\n",
       "</div>"
      ],
      "text/plain": [
       "       C(X)     GT\n",
       "0  0.254796  False\n",
       "1  0.888630   True\n",
       "2  0.815468   True"
      ]
     },
     "execution_count": 7,
     "metadata": {},
     "output_type": "execute_result"
    }
   ],
   "source": [
    "# we can also get a subset of all labeled rows\n",
    "base_dh.sample_df"
   ]
  },
  {
   "cell_type": "markdown",
   "metadata": {},
   "source": [
    "### 2.1 Random sampling"
   ]
  },
  {
   "cell_type": "code",
   "execution_count": 8,
   "metadata": {},
   "outputs": [],
   "source": [
    "sampeld_rows = base_dh.get_sample_for_labeling(n_item=5000, strategy='random')"
   ]
  },
  {
   "cell_type": "code",
   "execution_count": 9,
   "metadata": {},
   "outputs": [],
   "source": [
    "base_dh.get_oracle_labels(rows=sampeld_rows)"
   ]
  },
  {
   "cell_type": "code",
   "execution_count": 10,
   "metadata": {},
   "outputs": [
    {
     "data": {
      "text/plain": [
       "5003"
      ]
     },
     "execution_count": 10,
     "metadata": {},
     "output_type": "execute_result"
    }
   ],
   "source": [
    "base_dh.count_gt()"
   ]
  },
  {
   "cell_type": "code",
   "execution_count": 11,
   "metadata": {},
   "outputs": [
    {
     "data": {
      "text/html": [
       "<div>\n",
       "<style scoped>\n",
       "    .dataframe tbody tr th:only-of-type {\n",
       "        vertical-align: middle;\n",
       "    }\n",
       "\n",
       "    .dataframe tbody tr th {\n",
       "        vertical-align: top;\n",
       "    }\n",
       "\n",
       "    .dataframe thead th {\n",
       "        text-align: right;\n",
       "    }\n",
       "</style>\n",
       "<table border=\"1\" class=\"dataframe\">\n",
       "  <thead>\n",
       "    <tr style=\"text-align: right;\">\n",
       "      <th></th>\n",
       "      <th>C(X)</th>\n",
       "      <th>GT</th>\n",
       "    </tr>\n",
       "  </thead>\n",
       "  <tbody>\n",
       "    <tr>\n",
       "      <td>0</td>\n",
       "      <td>0.254796</td>\n",
       "      <td>False</td>\n",
       "    </tr>\n",
       "    <tr>\n",
       "      <td>1</td>\n",
       "      <td>0.888630</td>\n",
       "      <td>True</td>\n",
       "    </tr>\n",
       "    <tr>\n",
       "      <td>2</td>\n",
       "      <td>0.815468</td>\n",
       "      <td>True</td>\n",
       "    </tr>\n",
       "    <tr>\n",
       "      <td>6</td>\n",
       "      <td>0.366567</td>\n",
       "      <td>False</td>\n",
       "    </tr>\n",
       "    <tr>\n",
       "      <td>36</td>\n",
       "      <td>0.278130</td>\n",
       "      <td>False</td>\n",
       "    </tr>\n",
       "    <tr>\n",
       "      <td>...</td>\n",
       "      <td>...</td>\n",
       "      <td>...</td>\n",
       "    </tr>\n",
       "    <tr>\n",
       "      <td>99904</td>\n",
       "      <td>0.231356</td>\n",
       "      <td>False</td>\n",
       "    </tr>\n",
       "    <tr>\n",
       "      <td>99908</td>\n",
       "      <td>0.548154</td>\n",
       "      <td>False</td>\n",
       "    </tr>\n",
       "    <tr>\n",
       "      <td>99932</td>\n",
       "      <td>0.347550</td>\n",
       "      <td>False</td>\n",
       "    </tr>\n",
       "    <tr>\n",
       "      <td>99955</td>\n",
       "      <td>0.343518</td>\n",
       "      <td>False</td>\n",
       "    </tr>\n",
       "    <tr>\n",
       "      <td>99957</td>\n",
       "      <td>0.163309</td>\n",
       "      <td>False</td>\n",
       "    </tr>\n",
       "  </tbody>\n",
       "</table>\n",
       "<p>5003 rows × 2 columns</p>\n",
       "</div>"
      ],
      "text/plain": [
       "           C(X)     GT\n",
       "0      0.254796  False\n",
       "1      0.888630   True\n",
       "2      0.815468   True\n",
       "6      0.366567  False\n",
       "36     0.278130  False\n",
       "...         ...    ...\n",
       "99904  0.231356  False\n",
       "99908  0.548154  False\n",
       "99932  0.347550  False\n",
       "99955  0.343518  False\n",
       "99957  0.163309  False\n",
       "\n",
       "[5003 rows x 2 columns]"
      ]
     },
     "execution_count": 11,
     "metadata": {},
     "output_type": "execute_result"
    }
   ],
   "source": [
    "base_dh.sample_df"
   ]
  },
  {
   "cell_type": "code",
   "execution_count": 12,
   "metadata": {},
   "outputs": [],
   "source": [
    "random_sample_df = base_dh.sample_df"
   ]
  },
  {
   "cell_type": "code",
   "execution_count": 13,
   "metadata": {},
   "outputs": [
    {
     "data": {
      "image/png": "[encoded data removed]",
      "text/plain": [
       "<Figure size 1152x216 with 5 Axes>"
      ]
     },
     "metadata": {
      "needs_background": "light"
     },
     "output_type": "display_data"
    }
   ],
   "source": [
    "base_dh.generate_all_distribution_plots(df=random_sample_df, num_bin=10)"
   ]
  },
  {
   "cell_type": "code",
   "execution_count": null,
   "metadata": {},
   "outputs": [],
   "source": [
    "def estimator(dh, labeled_df):\n",
    "    # get a calibration curve for this labeled df and distribution of C(X) of the observed 1M df\n",
    "    # run our intergral to get an estimation"
   ]
  },
  {
   "cell_type": "markdown",
   "metadata": {},
   "source": [
    "### Estimating with PE, but just once"
   ]
  },
  {
   "cell_type": "code",
   "execution_count": 16,
   "metadata": {},
   "outputs": [
    {
     "data": {
      "text/plain": [
       "0.19942298159695498"
      ]
     },
     "execution_count": 16,
     "metadata": {},
     "output_type": "execute_result"
    }
   ],
   "source": [
    "pe_estimator = ProbabilityEstimator()\n",
    "\n",
    "sample_calibration_curve = NPBinningCalibrationCurve(random_sample_df, num_bin=50)\n",
    "pe_estimator.set_calibration_curve(sample_calibration_curve)\n",
    "\n",
    "input_cx_array = base_dh.observed_df['C(X)'].values\n",
    "\n",
    "pe_estimator.estimate(input_cx_array)"
   ]
  },
  {
   "cell_type": "code",
   "execution_count": 17,
   "metadata": {},
   "outputs": [
    {
     "ename": "TypeError",
     "evalue": "__init__() missing 1 required positional argument: 'b'",
     "output_type": "error",
     "traceback": [
      "\u001b[0;31m---------------------------------------------------------------------------\u001b[0m",
      "\u001b[0;31mTypeError\u001b[0m                                 Traceback (most recent call last)",
      "\u001b[0;32m<ipython-input-17-3f61b6434869>\u001b[0m in \u001b[0;36m<module>\u001b[0;34m\u001b[0m\n\u001b[1;32m      1\u001b[0m \u001b[0mpe_estimator\u001b[0m \u001b[0;34m=\u001b[0m \u001b[0mProbabilityEstimator\u001b[0m\u001b[0;34m(\u001b[0m\u001b[0;34m)\u001b[0m\u001b[0;34m\u001b[0m\u001b[0;34m\u001b[0m\u001b[0m\n\u001b[1;32m      2\u001b[0m \u001b[0;34m\u001b[0m\u001b[0m\n\u001b[0;32m----> 3\u001b[0;31m \u001b[0msample_calibration_curve\u001b[0m \u001b[0;34m=\u001b[0m \u001b[0mLogisticCalibrationCurve\u001b[0m\u001b[0;34m(\u001b[0m\u001b[0mrandom_sample_df\u001b[0m\u001b[0;34m)\u001b[0m\u001b[0;34m\u001b[0m\u001b[0;34m\u001b[0m\u001b[0m\n\u001b[0m\u001b[1;32m      4\u001b[0m \u001b[0mpe_estimator\u001b[0m\u001b[0;34m.\u001b[0m\u001b[0mset_calibration_curve\u001b[0m\u001b[0;34m(\u001b[0m\u001b[0msample_calibration_curve\u001b[0m\u001b[0;34m)\u001b[0m\u001b[0;34m\u001b[0m\u001b[0;34m\u001b[0m\u001b[0m\n\u001b[1;32m      5\u001b[0m \u001b[0;34m\u001b[0m\u001b[0m\n",
      "\u001b[0;31mTypeError\u001b[0m: __init__() missing 1 required positional argument: 'b'"
     ]
    }
   ],
   "source": [
    "pe_estimator = ProbabilityEstimator()\n",
    "\n",
    "sample_calibration_curve = LogisticCalibrationCurve()\n",
    "sample_calibration_curve.fit(random_sample_df)\n",
    "pe_estimator.set_calibration_curve(sample_calibration_curve)\n",
    "\n",
    "input_cx_array = base_dh.observed_df['C(X)'].values\n",
    "\n",
    "pe_estimator.estimate(input_cx_array)"
   ]
  },
  {
   "cell_type": "markdown",
   "metadata": {},
   "source": [
    "### Obtaining confidence interval by Bootstrap sampling"
   ]
  },
  {
   "cell_type": "code",
   "execution_count": 48,
   "metadata": {},
   "outputs": [
    {
     "name": "stdout",
     "output_type": "stream",
     "text": [
      "0.1983773278613771\n",
      "0.19836197508778902\n",
      "0.1996004061302682\n",
      "0.19802705163601622\n",
      "0.19172231702898554\n",
      "0.20018998848130432\n",
      "0.1972962182984217\n",
      "0.18612371083644724\n",
      "0.18780511779448625\n",
      "0.19939407991049418\n",
      "0.19419098283610375\n",
      "0.19513185501355015\n",
      "0.1872422099511742\n",
      "0.18522607057292664\n",
      "0.1902962180603949\n",
      "0.188967361961431\n",
      "0.1998125780730897\n",
      "0.19600044625587176\n",
      "0.19875709296947275\n",
      "0.19115807943976368\n",
      "0.19280113806299673\n",
      "0.19759662738266037\n",
      "0.19352451980210328\n",
      "0.19275370820668694\n",
      "0.1944145584045584\n",
      "0.18986507708316216\n",
      "0.19231049816674636\n",
      "0.19984440640199996\n",
      "0.18819194956658786\n",
      "0.19092464729024491\n",
      "0.18711043281853287\n",
      "0.19667131027397264\n",
      "0.1993470183325363\n",
      "0.1935789019607843\n",
      "0.19631264425770306\n",
      "0.19324641654135338\n",
      "0.1862443875968992\n",
      "0.19100774694783573\n",
      "0.20240423512533975\n",
      "0.19183513038156566\n",
      "0.1929186601350457\n",
      "0.19208453996101366\n",
      "0.19145472498090144\n",
      "0.19283086580086584\n",
      "0.19965054147812972\n",
      "0.19970313266345005\n",
      "0.19246138776671406\n",
      "0.19305038915566228\n",
      "0.19363779180497356\n",
      "0.1931809455240103\n",
      "0.19532528813559322\n",
      "0.20227198489987963\n",
      "0.1990941035728623\n",
      "0.19485741578407192\n",
      "0.19402267023172906\n",
      "0.19057770588235295\n",
      "0.20032587786064895\n",
      "0.19713062582345192\n",
      "0.19748405094905094\n",
      "0.1979521978021978\n",
      "0.1941908434148434\n",
      "0.19095135885167466\n",
      "0.18519283676429207\n",
      "0.1971730101367404\n",
      "0.19351479188784537\n",
      "0.20469140988915183\n",
      "0.19715335504549214\n",
      "0.1881009318751424\n",
      "0.1948125889376218\n",
      "0.19175207432226624\n",
      "0.19336063636363632\n",
      "0.19616211683053789\n",
      "0.20259929054816156\n",
      "0.1917597766116147\n",
      "0.19300937951614097\n",
      "0.19035218930827627\n",
      "0.189093579277865\n",
      "0.19386526923076922\n",
      "0.19079681872909696\n",
      "0.18800123397813287\n",
      "0.19500326077637536\n",
      "0.18889257959183678\n",
      "0.19500829574223244\n",
      "0.19347754703884446\n",
      "0.18469407724301845\n",
      "0.18839833333333333\n",
      "0.19595907037820198\n",
      "0.19083565604151226\n",
      "0.19591780519480514\n",
      "0.2013107549967311\n",
      "0.19210810332013403\n",
      "0.19162909442972556\n",
      "0.18850160510715908\n",
      "0.19619616194331982\n",
      "0.19746386834329693\n",
      "0.1860115458079784\n",
      "0.1984260434864814\n",
      "0.19037056818181816\n",
      "0.20121281833616297\n",
      "0.1968493131110367\n",
      "0.19380224467678184\n",
      "0.19326812948353636\n",
      "0.20039166975521722\n",
      "0.19070398822427406\n",
      "0.19388869641734757\n",
      "0.19686412788996197\n",
      "0.1921291082888909\n",
      "0.1995137662028263\n",
      "0.19348164482029595\n",
      "0.1926074829185733\n",
      "0.19678338091461806\n",
      "0.1868193528505393\n",
      "0.1966358628854046\n",
      "0.1911959045605557\n",
      "0.19053272938530735\n",
      "0.19456438500506584\n",
      "0.19158165642229935\n",
      "0.19689512266802967\n",
      "0.19015678458498023\n",
      "0.19374440462859277\n",
      "0.19460037873754155\n",
      "0.19159011702127657\n",
      "0.18887490360046458\n",
      "0.19516245454013056\n",
      "0.196674799719888\n",
      "0.19250134962406018\n",
      "0.1915315154255319\n",
      "0.1944657777777778\n",
      "0.18815066878007794\n",
      "0.19742420392156862\n",
      "0.1986811042204996\n",
      "0.1904325092019032\n",
      "0.19002711507936507\n",
      "0.19190004812563322\n",
      "0.2000770590606305\n",
      "0.1879828026533997\n",
      "0.19847900022669132\n",
      "0.18235237229437226\n",
      "0.1879680919080919\n",
      "0.1911322807017544\n",
      "0.19576974999999994\n",
      "0.1923317771532268\n",
      "0.19556506481481484\n",
      "0.18870319444444444\n",
      "0.19550501807948148\n",
      "0.19569575910364145\n",
      "0.20168909041394342\n",
      "0.19558720119697232\n",
      "0.19764235068266633\n",
      "0.19811345515947465\n",
      "0.18983185547785547\n",
      "0.20266785842217483\n",
      "0.19471657729468594\n",
      "0.1942355273518982\n",
      "0.20082984042553192\n",
      "0.19116133116883116\n",
      "0.20342994782608695\n",
      "0.18794957830945017\n",
      "0.19631316024929565\n",
      "0.19166902615902617\n",
      "0.19861694805194804\n",
      "0.19703425629531973\n",
      "0.1914078389610389\n",
      "0.19653275900324285\n",
      "0.1919938185207151\n",
      "0.1937782097684647\n",
      "0.19188647676767676\n",
      "0.19604522177444203\n",
      "0.19316607454702328\n",
      "0.2004376551724138\n",
      "0.18916593650793653\n",
      "0.19465791132478633\n",
      "0.20042489690298204\n",
      "0.19161771717171713\n",
      "0.19774980106100792\n",
      "0.19588166464460527\n",
      "0.19642961315280466\n",
      "0.19631534677763549\n",
      "0.1938207858851675\n",
      "0.18992177966421422\n",
      "0.1954509150605492\n",
      "0.19207449183673467\n",
      "0.1904083492063492\n",
      "0.1823483989547038\n",
      "0.1974922167487685\n",
      "0.18190874149659866\n",
      "0.191789187978688\n",
      "0.19053564593301434\n",
      "0.1911848145245559\n",
      "0.19645986824769435\n",
      "0.18842886423034327\n",
      "0.19089321168467388\n",
      "0.19125636363636367\n",
      "0.18936359165839126\n",
      "0.19001608382061025\n",
      "0.193075085226467\n",
      "0.19756710256410254\n",
      "0.19201121456582634\n",
      "0.19446085836385835\n",
      "0.20272933390031284\n",
      "0.1945415524595803\n",
      "0.18938327561327561\n",
      "0.1999482115201407\n",
      "0.1963883128342246\n",
      "0.1980748296222992\n",
      "0.18923082800608831\n",
      "0.18902922298824593\n",
      "0.1929920620718005\n",
      "0.18794712894834636\n",
      "0.19013096555618292\n",
      "0.19354416434066846\n",
      "0.19885807076980988\n",
      "0.1942839158163265\n",
      "0.19164767904963256\n",
      "0.1953370010413051\n",
      "0.19284089006052288\n",
      "0.18579818331106027\n",
      "0.19562206660101394\n",
      "0.1884027786167321\n",
      "0.19594307873090483\n",
      "0.19449589415037197\n",
      "0.19366357744704307\n",
      "0.19263150058275053\n",
      "0.19019464219066937\n",
      "0.197278229237641\n",
      "0.2010170332132853\n",
      "0.18622541917293234\n",
      "0.18879584302325583\n",
      "0.19974853801169593\n",
      "0.19717852482269504\n",
      "0.18612504406779662\n",
      "0.19387463470483007\n",
      "0.18746121860282575\n",
      "0.19398070731707318\n",
      "0.19316016085050564\n",
      "0.19190226754426626\n",
      "0.1888274444444444\n",
      "0.19835734603174607\n",
      "0.1924095245478036\n",
      "0.18747786635586638\n",
      "0.19420007914704343\n",
      "0.19673836673596679\n",
      "0.18841212121212117\n",
      "0.1959290826195082\n",
      "0.19314151350245498\n",
      "0.19062117854314042\n",
      "0.19330113986928107\n",
      "0.19128636977058028\n",
      "0.19378602116402116\n",
      "0.19348928904428908\n",
      "0.1890248744588745\n",
      "0.19680053375196235\n",
      "0.1965112494115432\n",
      "0.1923880751948362\n",
      "0.19647419180317793\n",
      "0.19672533972125436\n",
      "0.18960652083333335\n",
      "0.20373134615384614\n",
      "0.1904299888314952\n",
      "0.1992686742213503\n",
      "0.19041541022034694\n",
      "0.19557597883597885\n",
      "0.20036383702882485\n",
      "0.18657037815126049\n",
      "0.1933413010989011\n",
      "0.19792452362707535\n",
      "0.19190658499136334\n",
      "0.19141858114446528\n",
      "0.18670641943734015\n",
      "0.19811368840579707\n",
      "0.1921412845849802\n",
      "0.18727598442714127\n",
      "0.19305852008113591\n",
      "0.1925162181818182\n",
      "0.19296926383399207\n",
      "0.19713847967093814\n",
      "0.199313196013289\n",
      "0.2007469194938566\n",
      "0.18763351009657595\n",
      "0.19270938860367431\n",
      "0.20106565687426559\n",
      "0.18545220209927057\n",
      "0.19886045287962967\n",
      "0.19676833784210673\n",
      "0.19221889201124048\n",
      "0.19327600369309822\n",
      "0.19130175377468053\n",
      "0.19744579827235773\n",
      "0.1908395716135716\n",
      "0.19725745503252962\n",
      "0.19316330065359483\n",
      "0.19393798276719137\n",
      "0.19827864585091418\n",
      "0.19330155842025074\n",
      "0.18395267132867132\n",
      "0.19604753946861764\n",
      "0.1914546431365536\n",
      "0.19279088888888887\n",
      "0.19395706889596745\n",
      "0.19839044189852695\n",
      "0.2020783470473719\n",
      "0.20291104321076667\n",
      "0.18933847624316177\n",
      "0.18937020673486787\n",
      "0.19570925925925928\n",
      "0.1975613492063492\n",
      "0.18998802853446572\n",
      "0.1985132472501196\n",
      "0.1927803200425306\n",
      "0.20188597485445312\n",
      "0.1963692087431694\n",
      "0.18831781235827663\n",
      "0.19049723428215448\n",
      "0.1932014768270945\n",
      "0.1916363061061745\n",
      "0.19271908578619107\n",
      "0.19502161449077238\n",
      "0.1915305793650793\n",
      "0.19059849299263637\n",
      "0.19549429338228866\n",
      "0.18820254521963822\n",
      "0.19257178113207546\n",
      "0.1983178653846154\n",
      "0.20932124025974025\n",
      "0.2002707626491156\n",
      "0.20236759999999998\n",
      "0.2008736566604128\n",
      "0.19398480632479262\n",
      "0.1886387940567531\n",
      "0.18945450674516712\n",
      "0.19151472663708485\n",
      "0.19659448120300752\n",
      "0.1948757124435848\n",
      "0.19614921568627447\n",
      "0.19303246149199638\n",
      "0.19422707857377466\n",
      "0.1985260465116279\n",
      "0.19261968947342858\n",
      "0.1975978068027211\n",
      "0.19661946514262182\n",
      "0.19047503035408644\n",
      "0.19662079900332227\n",
      "0.19857281483426706\n",
      "0.19083349808429123\n",
      "0.19829740175496532\n",
      "0.1926319970624235\n",
      "0.19425212221231045\n",
      "0.19271446969696968\n",
      "0.19444695\n",
      "0.19339545655111554\n",
      "0.19483142946067317\n",
      "0.19535298695441375\n",
      "0.1969949987267634\n",
      "0.19756231567020432\n",
      "0.1872581652137817\n",
      "0.19575444562334218\n",
      "0.19601597173039723\n",
      "0.19176375989981126\n",
      "0.19307324556489266\n",
      "0.19188095551257253\n",
      "0.18933454545454545\n",
      "0.19173309664766813\n",
      "0.1907635124897625\n",
      "0.19658411857707514\n",
      "0.19126086772486772\n",
      "0.19798585975609756\n",
      "0.1935977266970618\n",
      "0.1952087164161351\n",
      "0.20103754166666665\n",
      "0.19561748454970043\n",
      "0.19923982030702936\n",
      "0.1950691517615176\n",
      "0.19062607683982682\n",
      "0.1955984909762992\n",
      "0.1958053226876631\n",
      "0.1854270136778116\n",
      "0.19471919751711853\n",
      "0.19759212655971486\n",
      "0.1936481626794258\n",
      "0.19333465079365075\n",
      "0.20045861932200856\n",
      "0.1890732122546322\n",
      "0.19373643867924528\n",
      "0.19092494825708062\n",
      "0.20261297689075633\n",
      "0.20084517032967034\n",
      "0.19584036056925533\n",
      "0.19984929161515444\n",
      "0.192014890070922\n",
      "0.1911109997943818\n",
      "0.19387705501712882\n",
      "0.19454878199718706\n",
      "0.18929035861713103\n",
      "0.19650748730711798\n",
      "0.19298679981394268\n",
      "0.19784960299105767\n",
      "0.19747500000000004\n",
      "0.1968797990227204\n",
      "0.19913123834839622\n",
      "0.19851358319039453\n",
      "0.19448459119496855\n",
      "0.1967209608066352\n",
      "0.1876216627966976\n",
      "0.1946336500754148\n",
      "0.2029965162946255\n",
      "0.192223176284585\n",
      "0.1933690122044241\n",
      "0.1863810476190476\n",
      "0.19978687916734422\n",
      "0.19189238143804177\n",
      "0.20124282833655707\n",
      "0.1920276094919573\n",
      "0.19339194819819816\n",
      "0.1960373939554613\n",
      "0.19337873015873017\n",
      "0.19498575012899896\n",
      "0.19698985976789168\n"
     ]
    },
    {
     "name": "stdout",
     "output_type": "stream",
     "text": [
      "0.20201838888888887\n",
      "0.18397314565483477\n",
      "0.19269610227272727\n",
      "0.19601545521992578\n",
      "0.19227215402693662\n",
      "0.1951452962697274\n",
      "0.19561133333333336\n",
      "0.2013134997885835\n",
      "0.20051903599908863\n",
      "0.19728910084033613\n",
      "0.1963433247160204\n",
      "0.19946060498338872\n",
      "0.19202676573787408\n",
      "0.1942486240310078\n",
      "0.19619852564102563\n",
      "0.20096228501400562\n",
      "0.19591001633986926\n",
      "0.20159916179337237\n",
      "0.19224075235109714\n",
      "0.19788246447946264\n",
      "0.19540868678871845\n",
      "0.19103020258980785\n",
      "0.19281606506835425\n",
      "0.18533787067981317\n",
      "0.1950895864762653\n",
      "0.19795657611808765\n",
      "0.19322319426336376\n",
      "0.19269045616502578\n",
      "0.19818219913419916\n",
      "0.19802263333333336\n",
      "0.18307791943521595\n",
      "0.2027076704545455\n",
      "0.19620348683108546\n",
      "0.19655408333333332\n",
      "0.20089472027972027\n",
      "0.19476025504439062\n",
      "0.1954682751675094\n",
      "0.19626900533943553\n",
      "0.18872260578386604\n",
      "0.1943914316239316\n",
      "0.1971863099099099\n",
      "0.20181906633906638\n",
      "0.19633965462876007\n",
      "0.1940119664387494\n",
      "0.20297415141487135\n",
      "0.198867753869655\n",
      "0.19504583915378093\n",
      "0.187181635443038\n",
      "0.19888379351740693\n",
      "0.19653078288201162\n",
      "0.19207015248317574\n",
      "0.19473589215686277\n",
      "0.19720763847334097\n",
      "0.19337998610421833\n",
      "0.19804597804534613\n",
      "0.19770606591337103\n",
      "0.2011070509017561\n",
      "0.1902256006555105\n",
      "0.19938178525464242\n",
      "0.19531162962962967\n",
      "0.19826872400425724\n",
      "0.18730460233918128\n",
      "0.19939852223393048\n",
      "0.18566908333333332\n",
      "0.1920543702963703\n",
      "0.19001457915057915\n",
      "0.19606240998363336\n",
      "0.19674717716040765\n",
      "0.18739685818513452\n",
      "0.19928282531180044\n",
      "0.19538518483736025\n",
      "0.19801303565915412\n",
      "0.19256971702127657\n",
      "0.19467002688172044\n",
      "0.19176458333333335\n",
      "0.1913783043763627\n",
      "0.19269316759667374\n",
      "0.19594045176333436\n",
      "0.20305604395604393\n",
      "0.1943831402714932\n",
      "0.2039985697155249\n",
      "0.19468098748330281\n",
      "0.19973432309301195\n"
     ]
    }
   ],
   "source": [
    "num_bootstrap = 500\n",
    "# sample with replacement on the 5000 labeled df\n",
    "\n",
    "pe_estimator = ProbabilityEstimator()\n",
    "input_cx_array = base_dh.observed_df['C(X)'].values\n",
    "\n",
    "estimated_result_list = []\n",
    "\n",
    "for _ in range(num_bootstrap):\n",
    "    n_item = len(random_sample_df)\n",
    "    bootstrapped_sample_df = random_sample_df.sample(frac=1, replace=True)\n",
    "    \n",
    "    bootstrapped_calibration_curve = NPBinningCalibrationCurve(bootstrapped_sample_df, num_bin=50)\n",
    "    bootstrapped_calibration_curve = NPBinningCalibrationCurve(bootstrapped_sample_df, num_bin=50)\n",
    "    pe_estimator.set_calibration_curve(bootstrapped_calibration_curve)\n",
    "\n",
    "    bootstrapped_pe_estimation = pe_estimator.estimate(input_cx_array)\n",
    "    print(bootstrapped_pe_estimation)\n",
    "    estimated_result_list.append(bootstrapped_pe_estimation)\n",
    "    \n",
    "# for _ in range(num_bootstraps):\n",
    "#     # get a bootstraped sample\n",
    "#     # run the estimator\n",
    "#     estimated_result_list.append()\n",
    "    \n",
    "\n"
   ]
  },
  {
   "cell_type": "code",
   "execution_count": 34,
   "metadata": {},
   "outputs": [
    {
     "data": {
      "text/plain": [
       "(0.19865952667821493, 0.19426352984984027, 0.20277464444404747)"
      ]
     },
     "execution_count": 34,
     "metadata": {},
     "output_type": "execute_result"
    }
   ],
   "source": [
    "np.median(estimated_result_list), np.percentile(estimated_result_list, 2.5), np.percentile(estimated_result_list, 97.5)"
   ]
  },
  {
   "cell_type": "code",
   "execution_count": 49,
   "metadata": {},
   "outputs": [
    {
     "data": {
      "text/plain": [
       "(0.1941955309915736, 0.18573040582275363, 0.20260647587802383)"
      ]
     },
     "execution_count": 49,
     "metadata": {},
     "output_type": "execute_result"
    }
   ],
   "source": [
    "np.median(estimated_result_list), np.percentile(estimated_result_list, 2.5), np.percentile(estimated_result_list, 97.5)"
   ]
  },
  {
   "cell_type": "code",
   "execution_count": null,
   "metadata": {},
   "outputs": [],
   "source": [
    "# plot the bar chart with error bars"
   ]
  },
  {
   "cell_type": "markdown",
   "metadata": {},
   "source": [
    "## Why "
   ]
  },
  {
   "cell_type": "markdown",
   "metadata": {},
   "source": [
    "### 2.2 Uniform sampling on C(X)\n",
    "\n",
    "check if uniform will give us a tighter confidence intervals"
   ]
  },
  {
   "cell_type": "code",
   "execution_count": 31,
   "metadata": {},
   "outputs": [],
   "source": [
    "base_dh.hide_all_oracle()"
   ]
  },
  {
   "cell_type": "code",
   "execution_count": 32,
   "metadata": {},
   "outputs": [
    {
     "data": {
      "text/plain": [
       "0"
      ]
     },
     "execution_count": 32,
     "metadata": {},
     "output_type": "execute_result"
    }
   ],
   "source": [
    "base_dh.count_gt()"
   ]
  },
  {
   "cell_type": "code",
   "execution_count": 33,
   "metadata": {},
   "outputs": [],
   "source": [
    "sampeld_rows = base_dh.get_sample_for_labeling(n_item=5000, strategy='uniform on C(X)')"
   ]
  },
  {
   "cell_type": "code",
   "execution_count": 34,
   "metadata": {},
   "outputs": [],
   "source": [
    "base_dh.get_oracle_labels(rows=sampeld_rows)"
   ]
  },
  {
   "cell_type": "code",
   "execution_count": 35,
   "metadata": {},
   "outputs": [
    {
     "data": {
      "text/plain": [
       "5000"
      ]
     },
     "execution_count": 35,
     "metadata": {},
     "output_type": "execute_result"
    }
   ],
   "source": [
    "base_dh.count_gt()"
   ]
  },
  {
   "cell_type": "code",
   "execution_count": 36,
   "metadata": {},
   "outputs": [
    {
     "data": {
      "text/html": [
       "<div>\n",
       "<style scoped>\n",
       "    .dataframe tbody tr th:only-of-type {\n",
       "        vertical-align: middle;\n",
       "    }\n",
       "\n",
       "    .dataframe tbody tr th {\n",
       "        vertical-align: top;\n",
       "    }\n",
       "\n",
       "    .dataframe thead th {\n",
       "        text-align: right;\n",
       "    }\n",
       "</style>\n",
       "<table border=\"1\" class=\"dataframe\">\n",
       "  <thead>\n",
       "    <tr style=\"text-align: right;\">\n",
       "      <th></th>\n",
       "      <th>C(X)</th>\n",
       "      <th>GT</th>\n",
       "    </tr>\n",
       "  </thead>\n",
       "  <tbody>\n",
       "    <tr>\n",
       "      <td>0</td>\n",
       "      <td>0.506476</td>\n",
       "      <td>False</td>\n",
       "    </tr>\n",
       "    <tr>\n",
       "      <td>1</td>\n",
       "      <td>0.266516</td>\n",
       "      <td>False</td>\n",
       "    </tr>\n",
       "    <tr>\n",
       "      <td>2</td>\n",
       "      <td>0.805071</td>\n",
       "      <td>True</td>\n",
       "    </tr>\n",
       "    <tr>\n",
       "      <td>3</td>\n",
       "      <td>0.651791</td>\n",
       "      <td>True</td>\n",
       "    </tr>\n",
       "    <tr>\n",
       "      <td>4</td>\n",
       "      <td>0.140691</td>\n",
       "      <td>False</td>\n",
       "    </tr>\n",
       "    <tr>\n",
       "      <td>...</td>\n",
       "      <td>...</td>\n",
       "      <td>...</td>\n",
       "    </tr>\n",
       "    <tr>\n",
       "      <td>11982</td>\n",
       "      <td>0.663697</td>\n",
       "      <td>False</td>\n",
       "    </tr>\n",
       "    <tr>\n",
       "      <td>12005</td>\n",
       "      <td>0.661057</td>\n",
       "      <td>False</td>\n",
       "    </tr>\n",
       "    <tr>\n",
       "      <td>12011</td>\n",
       "      <td>0.606818</td>\n",
       "      <td>True</td>\n",
       "    </tr>\n",
       "    <tr>\n",
       "      <td>12138</td>\n",
       "      <td>0.620298</td>\n",
       "      <td>False</td>\n",
       "    </tr>\n",
       "    <tr>\n",
       "      <td>12149</td>\n",
       "      <td>0.637001</td>\n",
       "      <td>False</td>\n",
       "    </tr>\n",
       "  </tbody>\n",
       "</table>\n",
       "<p>5000 rows × 2 columns</p>\n",
       "</div>"
      ],
      "text/plain": [
       "           C(X)     GT\n",
       "0      0.506476  False\n",
       "1      0.266516  False\n",
       "2      0.805071   True\n",
       "3      0.651791   True\n",
       "4      0.140691  False\n",
       "...         ...    ...\n",
       "11982  0.663697  False\n",
       "12005  0.661057  False\n",
       "12011  0.606818   True\n",
       "12138  0.620298  False\n",
       "12149  0.637001  False\n",
       "\n",
       "[5000 rows x 2 columns]"
      ]
     },
     "execution_count": 36,
     "metadata": {},
     "output_type": "execute_result"
    }
   ],
   "source": [
    "base_dh.sample_df"
   ]
  },
  {
   "cell_type": "code",
   "execution_count": 37,
   "metadata": {},
   "outputs": [],
   "source": [
    "purposive_sample_df = base_dh.sample_df"
   ]
  },
  {
   "cell_type": "code",
   "execution_count": 38,
   "metadata": {},
   "outputs": [
    {
     "data": {
      "image/png": "[encoded data removed]",
      "text/plain": [
       "<Figure size 1152x216 with 5 Axes>"
      ]
     },
     "metadata": {
      "needs_background": "light"
     },
     "output_type": "display_data"
    }
   ],
   "source": [
    "base_dh.generate_all_distribution_plots(df=purposive_sample_df, num_bin=10)"
   ]
  },
  {
   "cell_type": "code",
   "execution_count": 39,
   "metadata": {},
   "outputs": [
    {
     "data": {
      "image/png": "[encoded data removed]",
      "text/plain": [
       "<Figure size 1152x216 with 5 Axes>"
      ]
     },
     "metadata": {
      "needs_background": "light"
     },
     "output_type": "display_data"
    }
   ],
   "source": [
    "base_dh.generate_all_distribution_plots(df=random_sample_df, num_bin=10)"
   ]
  },
  {
   "cell_type": "code",
   "execution_count": null,
   "metadata": {},
   "outputs": [],
   "source": [
    "base_dh.reset_oracle()"
   ]
  },
  {
   "cell_type": "code",
   "execution_count": null,
   "metadata": {},
   "outputs": [],
   "source": []
  },
  {
   "cell_type": "code",
   "execution_count": null,
   "metadata": {},
   "outputs": [],
   "source": []
  },
  {
   "cell_type": "code",
   "execution_count": null,
   "metadata": {},
   "outputs": [],
   "source": []
  },
  {
   "cell_type": "code",
   "execution_count": null,
   "metadata": {},
   "outputs": [],
   "source": [
    "base_dh.count_gt()"
   ]
  },
  {
   "cell_type": "code",
   "execution_count": null,
   "metadata": {},
   "outputs": [],
   "source": [
    "base_dh.observed_df"
   ]
  },
  {
   "cell_type": "code",
   "execution_count": null,
   "metadata": {},
   "outputs": [],
   "source": [
    "base_dh.get_oracle_labels(rows=sampeld_rows)"
   ]
  },
  {
   "cell_type": "code",
   "execution_count": null,
   "metadata": {},
   "outputs": [],
   "source": [
    "base_dh.load_features(features=['has_url', 'lang'])"
   ]
  },
  {
   "cell_type": "code",
   "execution_count": null,
   "metadata": {},
   "outputs": [],
   "source": [
    "base_dh.observed_df"
   ]
  },
  {
   "cell_type": "code",
   "execution_count": null,
   "metadata": {},
   "outputs": [],
   "source": [
    "Estimator(base_dh, calibration_curve_base)"
   ]
  },
  {
   "cell_type": "markdown",
   "metadata": {},
   "source": [
    "## Sec 3. Extrapolation phase"
   ]
  },
  {
   "cell_type": "markdown",
   "metadata": {},
   "source": [
    "show the five distribution plots for the base period in one row"
   ]
  },
  {
   "cell_type": "markdown",
   "metadata": {},
   "source": [
    "### 3.1 Borrow the calibration curve learned from the base dataset"
   ]
  },
  {
   "cell_type": "code",
   "execution_count": null,
   "metadata": {},
   "outputs": [],
   "source": [
    "PE_Estimator(target_dh, calibration_curve_base)"
   ]
  },
  {
   "cell_type": "code",
   "execution_count": null,
   "metadata": {},
   "outputs": [],
   "source": [
    "# fill in the result spreadsheet"
   ]
  },
  {
   "cell_type": "markdown",
   "metadata": {},
   "source": [
    "### 3.3 Borrow the class-conditional densities learned from the base dataset"
   ]
  },
  {
   "cell_type": "markdown",
   "metadata": {},
   "source": [
    "Introduce the MM model"
   ]
  },
  {
   "cell_type": "code",
   "execution_count": null,
   "metadata": {},
   "outputs": [],
   "source": [
    "MM_Estimator(target_dh, class_density_base)"
   ]
  },
  {
   "cell_type": "code",
   "execution_count": null,
   "metadata": {},
   "outputs": [],
   "source": [
    "# bootstrap"
   ]
  },
  {
   "cell_type": "code",
   "execution_count": null,
   "metadata": {},
   "outputs": [],
   "source": []
  },
  {
   "cell_type": "code",
   "execution_count": null,
   "metadata": {},
   "outputs": [],
   "source": []
  },
  {
   "cell_type": "markdown",
   "metadata": {},
   "source": [
    "# Let's first try some approaches\n",
    "\n",
    "Given: classifier scores UC(X)\n",
    "\n",
    "Target: P(GT=1)"
   ]
  },
  {
   "cell_type": "markdown",
   "metadata": {},
   "source": [
    "## 1. Classify and Count (threshold = 0.5)"
   ]
  },
  {
   "cell_type": "code",
   "execution_count": null,
   "metadata": {},
   "outputs": [],
   "source": [
    "threshold = 0.5\n",
    "est_p_cc = base_dh.observed_df[base_dh.observed_df['UC(X)'] > threshold].shape[0] / base_dh.size\n",
    "est_p_cc"
   ]
  },
  {
   "cell_type": "code",
   "execution_count": null,
   "metadata": {},
   "outputs": [],
   "source": [
    "base_dh._p_gt"
   ]
  },
  {
   "cell_type": "markdown",
   "metadata": {},
   "source": [
    "## 2. Probabilistic Estimator"
   ]
  },
  {
   "cell_type": "code",
   "execution_count": null,
   "metadata": {},
   "outputs": [],
   "source": [
    "est_p_pe = base_dh.observed_df['UC(X)'].sum() / base_dh.size\n",
    "est_p_pe"
   ]
  },
  {
   "cell_type": "code",
   "execution_count": null,
   "metadata": {},
   "outputs": [],
   "source": [
    "base_dh._p_gt"
   ]
  },
  {
   "cell_type": "markdown",
   "metadata": {},
   "source": [
    "# 3. Now assume we have some budget to label some data"
   ]
  },
  {
   "cell_type": "code",
   "execution_count": null,
   "metadata": {},
   "outputs": [],
   "source": [
    "base_dh.count_gt()"
   ]
  },
  {
   "cell_type": "code",
   "execution_count": null,
   "metadata": {},
   "outputs": [],
   "source": [
    "base_dh.size"
   ]
  },
  {
   "cell_type": "code",
   "execution_count": null,
   "metadata": {},
   "outputs": [],
   "source": [
    "# let's label 20% data\n",
    "num_sample = int(0.1 * base_dh.size)\n",
    "num_sample"
   ]
  },
  {
   "cell_type": "code",
   "execution_count": null,
   "metadata": {},
   "outputs": [],
   "source": [
    "sampeld_rows = base_dh.get_sample_for_labeling(n_item=num_sample, strategy='random')"
   ]
  },
  {
   "cell_type": "code",
   "execution_count": null,
   "metadata": {},
   "outputs": [],
   "source": [
    "base_dh.get_oracle_labels(rows=sampeld_rows)"
   ]
  },
  {
   "cell_type": "code",
   "execution_count": null,
   "metadata": {},
   "outputs": [],
   "source": [
    "base_dh.count_gt()"
   ]
  },
  {
   "cell_type": "code",
   "execution_count": null,
   "metadata": {},
   "outputs": [],
   "source": [
    "labeled_sample = base_dh.get_labeled_sample()"
   ]
  },
  {
   "cell_type": "code",
   "execution_count": null,
   "metadata": {},
   "outputs": [],
   "source": [
    "labeled_sample.shape"
   ]
  },
  {
   "cell_type": "code",
   "execution_count": null,
   "metadata": {},
   "outputs": [],
   "source": [
    "labeled_sample.loc[:, 'GT'] = labeled_sample['GT'].astype('bool')"
   ]
  },
  {
   "cell_type": "code",
   "execution_count": null,
   "metadata": {},
   "outputs": [],
   "source": [
    "labeled_sample"
   ]
  },
  {
   "cell_type": "markdown",
   "metadata": {},
   "source": [
    "## 3.1 Learn the optimal threshold by F1"
   ]
  },
  {
   "cell_type": "code",
   "execution_count": null,
   "metadata": {},
   "outputs": [],
   "source": [
    "from sklearn.metrics import roc_auc_score, f1_score"
   ]
  },
  {
   "cell_type": "code",
   "execution_count": null,
   "metadata": {},
   "outputs": [],
   "source": [
    "roc_auc_score(labeled_sample['GT'].values, labeled_sample['UC(X)'].values)"
   ]
  },
  {
   "cell_type": "code",
   "execution_count": null,
   "metadata": {},
   "outputs": [],
   "source": [
    "labeled_sample['UC(X)'].map(lambda x: True if x > 0.3 else False).values"
   ]
  },
  {
   "cell_type": "code",
   "execution_count": null,
   "metadata": {},
   "outputs": [],
   "source": [
    "best_threshold = 0\n",
    "best_f1 = 0\n",
    "\n",
    "for thres in np.linspace(0, 1, 101):\n",
    "    f1 = f1_score(labeled_sample['GT'].values,\n",
    "             labeled_sample['UC(X)'].map(lambda x: True if x >= thres else False).values)\n",
    "    if f1 > best_f1:\n",
    "        best_f1 = f1\n",
    "        best_threshold = thres\n",
    "\n",
    "best_threshold, best_f1"
   ]
  },
  {
   "cell_type": "markdown",
   "metadata": {},
   "source": [
    "## with the best threshold"
   ]
  },
  {
   "cell_type": "code",
   "execution_count": null,
   "metadata": {},
   "outputs": [],
   "source": [
    "est_p_cc = base_dh.observed_df[base_dh.observed_df['UC(X)'] >= best_threshold].shape[0] / base_dh.size\n",
    "est_p_cc"
   ]
  },
  {
   "cell_type": "markdown",
   "metadata": {},
   "source": [
    "## 3.2 learn a platt scaling function"
   ]
  },
  {
   "cell_type": "code",
   "execution_count": null,
   "metadata": {},
   "outputs": [],
   "source": [
    "labeled_sample"
   ]
  },
  {
   "cell_type": "code",
   "execution_count": null,
   "metadata": {},
   "outputs": [],
   "source": [
    "train_UCX = labeled_sample['UC(X)'].values.reshape(-1, 1)\n",
    "train_GT = labeled_sample['GT'].values\n",
    "prob_cali_func = LogisticRegression(fit_intercept=True).fit(train_UCX, train_GT)"
   ]
  },
  {
   "cell_type": "code",
   "execution_count": null,
   "metadata": {},
   "outputs": [],
   "source": [
    "base_dh.plot_calibration_curve(df=base_dh.sample_df, num_bin=100, method='platt scaling', title='sample_calibration_curve')"
   ]
  },
  {
   "cell_type": "code",
   "execution_count": null,
   "metadata": {},
   "outputs": [],
   "source": [
    "labeled_sample = base_dh.get_labeled_sample()\n",
    "items = [(cx, gt) for cx, gt in zip(labeled_sample['UC(X)'].values, labeled_sample['GT'].values)]\n",
    "num_sample = len(items)"
   ]
  },
  {
   "cell_type": "code",
   "execution_count": null,
   "metadata": {},
   "outputs": [],
   "source": [
    "# bootstrap for CI\n",
    "num_bootstrap = 1000\n",
    "results = np.zeros((num_bootstrap, 101))\n",
    "est_result_list = []\n",
    "target_results = np.zeros((num_bootstrap, 101))\n",
    "target_result_list = []"
   ]
  },
  {
   "cell_type": "code",
   "execution_count": null,
   "metadata": {},
   "outputs": [],
   "source": [
    "empir_cx_axis = np.linspace(0, 1, 101)\n",
    "for idx in range(num_bootstrap):\n",
    "    bootstrapped_items = random.choices(items, k=num_sample)\n",
    "    bootstrapped_train_UCX = np.array([cx for cx, gt in bootstrapped_items]).reshape(-1, 1)\n",
    "    bootstrapped_train_GT = np.array([gt for cx, gt in bootstrapped_items])\n",
    "    bootstrapped_prob_cali_func = LogisticRegression(solver='lbfgs', fit_intercept=True).fit(bootstrapped_train_UCX, bootstrapped_train_GT)\n",
    "\n",
    "    bootstrapped_prob_cali_curve = bootstrapped_prob_cali_func.predict_proba(empir_cx_axis.reshape(-1, 1))[:, -1]\n",
    "    results[idx, :] = bootstrapped_prob_cali_curve.reshape(1, -1)\n",
    "    \n",
    "    bootstrapped_cali_prob_scores = bootstrapped_prob_cali_func.predict_proba(base_dh.observed_df['UC(X)'].values.reshape(-1, 1))[:, -1]\n",
    "    est_pcc = bootstrapped_cali_prob_scores.sum() / len(bootstrapped_cali_prob_scores)\n",
    "    est_result_list.append(est_pcc)    \n",
    "    \n",
    "    bootstrapped_cali_prob_scores = bootstrapped_prob_cali_func.predict_proba(target_dh.observed_df['UC(X)'].values.reshape(-1, 1))[:, -1]\n",
    "    est_pcc = bootstrapped_cali_prob_scores.sum() / len(bootstrapped_cali_prob_scores)\n",
    "    target_result_list.append(est_pcc) "
   ]
  },
  {
   "cell_type": "code",
   "execution_count": null,
   "metadata": {},
   "outputs": [],
   "source": [
    "results"
   ]
  },
  {
   "cell_type": "code",
   "execution_count": null,
   "metadata": {},
   "outputs": [],
   "source": [
    "np.median(est_result_list), np.percentile(est_result_list, q=2.5), np.percentile(est_result_list, q=97.5)"
   ]
  },
  {
   "cell_type": "code",
   "execution_count": null,
   "metadata": {},
   "outputs": [],
   "source": [
    "target_dh._p_gt"
   ]
  },
  {
   "cell_type": "code",
   "execution_count": null,
   "metadata": {},
   "outputs": [],
   "source": [
    "np.median(target_result_list), np.percentile(target_result_list, q=2.5), np.percentile(target_result_list, q=97.5)"
   ]
  },
  {
   "cell_type": "code",
   "execution_count": null,
   "metadata": {},
   "outputs": [],
   "source": [
    "results.shape"
   ]
  },
  {
   "cell_type": "code",
   "execution_count": null,
   "metadata": {},
   "outputs": [],
   "source": [
    "empir_cx_axis = np.linspace(0, 1, 101)\n",
    "\n",
    "mediaum_prob_cali_curve = np.median(results, axis=0)\n",
    "lower_prob_cali_curve = np.percentile(results, q=2.5, axis=0)\n",
    "upper_prob_cali_curve = np.percentile(results, q=97.5, axis=0)\n",
    "\n",
    "plt.plot(empir_cx_axis, mediaum_prob_cali_curve)\n",
    "plt.fill_between(empir_cx_axis, lower_prob_cali_curve, upper_prob_cali_curve, facecolor='r', alpha=0.2)"
   ]
  },
  {
   "cell_type": "code",
   "execution_count": null,
   "metadata": {},
   "outputs": [],
   "source": [
    "cali_prob_scores = prob_cali_func.predict_proba(base_dh.observed_df['UC(X)'].values.reshape(-1, 1))[:, -1]"
   ]
  },
  {
   "cell_type": "code",
   "execution_count": null,
   "metadata": {},
   "outputs": [],
   "source": [
    "cali_prob_scores.sum() / len(cali_prob_scores)"
   ]
  },
  {
   "cell_type": "markdown",
   "metadata": {},
   "source": [
    "## 3.3 learn the class-conditional density function"
   ]
  },
  {
   "cell_type": "code",
   "execution_count": null,
   "metadata": {},
   "outputs": [],
   "source": [
    "# bootstrap for CI\n",
    "num_bootstrap = 100\n",
    "pos_results = np.zeros((num_bootstrap, 10))\n",
    "neg_results = np.zeros((num_bootstrap, 10))\n",
    "\n",
    "est_result_list = []\n",
    "target_result_list = []"
   ]
  },
  {
   "cell_type": "code",
   "execution_count": null,
   "metadata": {},
   "outputs": [],
   "source": [
    "for idx in range(num_bootstrap):\n",
    "    bootstrapped_items = random.choices(items, k=num_sample)\n",
    "    bootstrapped_train_UCX = np.array([cx for cx, gt in bootstrapped_items]).reshape(-1, 1)\n",
    "    bootstrapped_train_GT = np.array([gt for cx, gt in bootstrapped_items])\n",
    "    \n",
    "    obs_freq, _ = np.histogram(bootstrapped_train_UCX, bins=np.linspace(0, 1, 11))\n",
    "    pos_freq, _ = np.histogram(bootstrapped_train_UCX[bootstrapped_train_GT == True], bins=np.linspace(0, 1, 11))\n",
    "    neg_freq, _ = np.histogram(bootstrapped_train_UCX[bootstrapped_train_GT == False], bins=np.linspace(0, 1, 11))\n",
    "    \n",
    "    obs_freq = obs_freq / obs_freq.sum()\n",
    "    pos_freq = pos_freq / pos_freq.sum()\n",
    "    neg_freq = neg_freq / neg_freq.sum()\n",
    "    \n",
    "    pos_results[idx, :] = pos_freq\n",
    "    neg_results[idx, :] = neg_freq\n",
    "    \n",
    "    min_dist = 100\n",
    "    best_p_p = 0\n",
    "\n",
    "    for p_p in np.linspace(0, 1, 101):\n",
    "        dist = hellinger(obs_freq, pos_freq * p_p + neg_freq * (1 - p_p))\n",
    "        if dist < min_dist:\n",
    "            min_dist = dist\n",
    "            best_p_p = p_p\n",
    "    \n",
    "    est_result_list.append(best_p_p)\n",
    "    \n",
    "    target_obs_freq, _ = np.histogram(target_dh.observed_df['UC(X)'].values, bins=np.linspace(0, 1, 11))\n",
    "    target_obs_freq = target_obs_freq / target_obs_freq.sum()\n",
    "    \n",
    "    min_dist = 100\n",
    "    best_p_p = 0\n",
    "\n",
    "    for p_p in np.linspace(0, 1, 101):\n",
    "        dist = hellinger(target_obs_freq, pos_freq * p_p + neg_freq * (1 - p_p))\n",
    "        if dist < min_dist:\n",
    "            min_dist = dist\n",
    "            best_p_p = p_p\n",
    "\n",
    "    target_result_list.append(best_p_p)    "
   ]
  },
  {
   "cell_type": "code",
   "execution_count": null,
   "metadata": {},
   "outputs": [],
   "source": [
    "np.median(est_result_list), np.percentile(est_result_list, q=2.5), np.percentile(est_result_list, q=97.5)"
   ]
  },
  {
   "cell_type": "code",
   "execution_count": null,
   "metadata": {},
   "outputs": [],
   "source": [
    "np.median(target_result_list), np.percentile(target_result_list, q=2.5), np.percentile(target_result_list, q=97.5)"
   ]
  },
  {
   "cell_type": "code",
   "execution_count": null,
   "metadata": {},
   "outputs": [],
   "source": [
    "target_dh._p_gt"
   ]
  },
  {
   "cell_type": "code",
   "execution_count": null,
   "metadata": {},
   "outputs": [],
   "source": [
    "plt.hist(labeled_sample['UC(X)'].values, bins=np.linspace(0, 1, 11))"
   ]
  },
  {
   "cell_type": "code",
   "execution_count": null,
   "metadata": {},
   "outputs": [],
   "source": [
    "obs_freq, _, _ = plt.hist(base_dh.observed_df['UC(X)'].values, bins=np.linspace(0, 1, 11))"
   ]
  },
  {
   "cell_type": "code",
   "execution_count": null,
   "metadata": {},
   "outputs": [],
   "source": [
    "obs_freq /= obs_freq.sum()"
   ]
  },
  {
   "cell_type": "code",
   "execution_count": null,
   "metadata": {},
   "outputs": [],
   "source": [
    "pos_freq, _, _ = plt.hist(labeled_sample[labeled_sample['GT'] == True]['UC(X)'].values, bins=np.linspace(0, 1, 11), alpha=0.5)\n",
    "neg_freq, _, _ = plt.hist(labeled_sample[labeled_sample['GT'] == False]['UC(X)'].values, bins=np.linspace(0, 1, 11), alpha=0.5)"
   ]
  },
  {
   "cell_type": "code",
   "execution_count": null,
   "metadata": {},
   "outputs": [],
   "source": [
    "mediaum_pos_density = np.median(pos_results, axis=0)\n",
    "lower_pos_density = np.percentile(pos_results, q=2.5, axis=0)\n",
    "upper_pos_density = np.percentile(pos_results, q=97.5, axis=0)\n",
    "\n",
    "mediaum_neg_density = np.median(neg_results, axis=0)\n",
    "lower_neg_density = np.percentile(neg_results, q=2.5, axis=0)\n",
    "upper_neg_density = np.percentile(neg_results, q=97.5, axis=0)\n",
    "\n",
    "empir_cx_axis = np.linspace(0, 1, 10)\n",
    "\n",
    "plt.plot(empir_cx_axis, mediaum_pos_density)\n",
    "plt.fill_between(empir_cx_axis, lower_pos_density, upper_pos_density, alpha=0.2)\n",
    "\n",
    "plt.plot(empir_cx_axis, mediaum_neg_density)\n",
    "plt.fill_between(empir_cx_axis, lower_neg_density, upper_neg_density, alpha=0.2)"
   ]
  },
  {
   "cell_type": "code",
   "execution_count": null,
   "metadata": {},
   "outputs": [],
   "source": [
    "pos_freq /= pos_freq.sum()\n",
    "neg_freq /= neg_freq.sum()"
   ]
  },
  {
   "cell_type": "code",
   "execution_count": null,
   "metadata": {},
   "outputs": [],
   "source": [
    "_SQRT2 = np.sqrt(2)\n",
    "\n",
    "def hellinger(p, q):\n",
    "    return np.sqrt(np.sum((np.sqrt(p) - np.sqrt(q)) ** 2)) / _SQRT2"
   ]
  },
  {
   "cell_type": "code",
   "execution_count": null,
   "metadata": {},
   "outputs": [],
   "source": [
    "min_dist = 100\n",
    "best_p_p = 0\n",
    "\n",
    "for p_p in np.linspace(0, 1, 101):\n",
    "    dist = hellinger(obs_freq, pos_freq * p_p + neg_freq * (1 - p_p))\n",
    "    if dist < min_dist:\n",
    "        min_dist = dist\n",
    "        best_p_p = p_p"
   ]
  },
  {
   "cell_type": "code",
   "execution_count": null,
   "metadata": {},
   "outputs": [],
   "source": [
    "best_p_p, min_dist"
   ]
  },
  {
   "cell_type": "markdown",
   "metadata": {},
   "source": [
    "# 4. estimate for the target period"
   ]
  },
  {
   "cell_type": "markdown",
   "metadata": {},
   "source": [
    "## 4.1 PCC"
   ]
  },
  {
   "cell_type": "code",
   "execution_count": null,
   "metadata": {},
   "outputs": [],
   "source": [
    "target_cali_prob_scores = prob_cali_func.predict_proba(target_dh.observed_df['UC(X)'].values.reshape(-1, 1))[:, -1]"
   ]
  },
  {
   "cell_type": "code",
   "execution_count": null,
   "metadata": {},
   "outputs": [],
   "source": [
    "target_cali_prob_scores.sum() / len(target_cali_prob_scores)"
   ]
  },
  {
   "cell_type": "markdown",
   "metadata": {},
   "source": [
    "## 4.2 MM"
   ]
  },
  {
   "cell_type": "code",
   "execution_count": null,
   "metadata": {},
   "outputs": [],
   "source": [
    "target_obs_freq, _, _ = plt.hist(target_dh.observed_df['UC(X)'].values, bins=np.linspace(0, 1, 11))"
   ]
  },
  {
   "cell_type": "code",
   "execution_count": null,
   "metadata": {},
   "outputs": [],
   "source": [
    "min_dist = 10000\n",
    "best_p_p = 0\n",
    "\n",
    "for p_p in np.linspace(0, 1, 101):\n",
    "    dist = hellinger(target_obs_freq, pos_freq * p_p + neg_freq * (1 - p_p))\n",
    "    if dist < min_dist:\n",
    "        min_dist = dist\n",
    "        best_p_p = p_p"
   ]
  },
  {
   "cell_type": "code",
   "execution_count": null,
   "metadata": {},
   "outputs": [],
   "source": [
    "best_p_p, min_dist"
   ]
  },
  {
   "cell_type": "markdown",
   "metadata": {},
   "source": [
    "# Target"
   ]
  },
  {
   "cell_type": "code",
   "execution_count": null,
   "metadata": {},
   "outputs": [],
   "source": [
    "target_dh = DataHandler('data/dataset1_target.csv')"
   ]
  },
  {
   "cell_type": "code",
   "execution_count": null,
   "metadata": {},
   "outputs": [],
   "source": [
    "target_dh.plot_dist_classifier_scores(num_bin=100, title='target_dist_classifier_scores')"
   ]
  },
  {
   "cell_type": "code",
   "execution_count": null,
   "metadata": {},
   "outputs": [],
   "source": [
    "median_calibration_curve = np.median(results, axis=0)"
   ]
  },
  {
   "cell_type": "code",
   "execution_count": null,
   "metadata": {},
   "outputs": [],
   "source": [
    "target_dh.get_pcc(num_bin=100, calibration_curve=median_calibration_curve, title='target_pcc_stacked_frequency')"
   ]
  },
  {
   "cell_type": "code",
   "execution_count": null,
   "metadata": {},
   "outputs": [],
   "source": [
    "target_dh.plot_dist_gt_labels(set_pp=True, p_p=np.median(target_result_list), title='target_pcc_dist_gt_labels')"
   ]
  },
  {
   "cell_type": "code",
   "execution_count": null,
   "metadata": {},
   "outputs": [],
   "source": []
  }
 ],
 "metadata": {
  "kernelspec": {
   "display_name": "Python 3",
   "language": "python",
   "name": "python3"
  },
  "language_info": {
   "codemirror_mode": {
    "name": "ipython",
    "version": 3
   },
   "file_extension": ".py",
   "mimetype": "text/x-python",
   "name": "python",
   "nbconvert_exporter": "python",
   "pygments_lexer": "ipython3",
   "version": "3.7.4"
  }
 },
 "nbformat": 4,
 "nbformat_minor": 5
}
